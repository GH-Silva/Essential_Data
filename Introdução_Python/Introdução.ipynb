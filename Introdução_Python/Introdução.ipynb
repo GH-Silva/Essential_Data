{
 "cells": [
  {
   "cell_type": "markdown",
   "id": "280580e7",
   "metadata": {},
   "source": [
    "### #%% Vamos conhecer algumas funções básicas no Python"
   ]
  },
  {
   "cell_type": "markdown",
   "id": "d04769e4",
   "metadata": {},
   "source": [
    "### Adição"
   ]
  },
  {
   "cell_type": "code",
   "execution_count": 1,
   "id": "8b2b7500",
   "metadata": {},
   "outputs": [
    {
     "name": "stdout",
     "output_type": "stream",
     "text": [
      "2\n"
     ]
    }
   ],
   "source": [
    "#Adição:\n",
    "print(1 + 1)"
   ]
  },
  {
   "cell_type": "markdown",
   "id": "c2b08226",
   "metadata": {},
   "source": [
    "### Subtração"
   ]
  },
  {
   "cell_type": "code",
   "execution_count": 2,
   "id": "5910d762",
   "metadata": {},
   "outputs": [
    {
     "name": "stdout",
     "output_type": "stream",
     "text": [
      "8\n"
     ]
    }
   ],
   "source": [
    "#Subtração:\n",
    "print(10 - 2)"
   ]
  },
  {
   "cell_type": "markdown",
   "id": "6543a33a",
   "metadata": {},
   "source": [
    "### Multiplicação"
   ]
  },
  {
   "cell_type": "code",
   "execution_count": 3,
   "id": "374d4a64",
   "metadata": {},
   "outputs": [
    {
     "name": "stdout",
     "output_type": "stream",
     "text": [
      "50\n"
     ]
    }
   ],
   "source": [
    "#Multiplicação:\n",
    "print(25 * 2)"
   ]
  },
  {
   "cell_type": "markdown",
   "id": "7ae014ea",
   "metadata": {},
   "source": [
    "### Divisão"
   ]
  },
  {
   "cell_type": "code",
   "execution_count": 4,
   "id": "b0500d89",
   "metadata": {},
   "outputs": [
    {
     "name": "stdout",
     "output_type": "stream",
     "text": [
      "10.0\n"
     ]
    }
   ],
   "source": [
    "#Divisão:\n",
    "print(100 / 10)"
   ]
  },
  {
   "cell_type": "markdown",
   "id": "ba861f48",
   "metadata": {},
   "source": [
    "### Exponenciação"
   ]
  },
  {
   "cell_type": "code",
   "execution_count": 5,
   "id": "d92a6e82",
   "metadata": {},
   "outputs": [
    {
     "name": "stdout",
     "output_type": "stream",
     "text": [
      "27\n"
     ]
    }
   ],
   "source": [
    "#Exponenciação\n",
    "print(3 ** 3)"
   ]
  },
  {
   "cell_type": "markdown",
   "id": "7092cdd1",
   "metadata": {},
   "source": [
    "### Importando todos os pacotes ao mesmo tempo"
   ]
  },
  {
   "cell_type": "code",
   "execution_count": 6,
   "id": "6e6ab113",
   "metadata": {},
   "outputs": [],
   "source": [
    "#Importando todos os pacotes que estão neste arquivo .txt\n",
    "# pip install -r requirements.txt"
   ]
  },
  {
   "cell_type": "markdown",
   "id": "78ab1cd5",
   "metadata": {},
   "source": [
    "### Tirando a raiz quadrada de um número"
   ]
  },
  {
   "cell_type": "code",
   "execution_count": 7,
   "id": "1730f348",
   "metadata": {},
   "outputs": [
    {
     "name": "stdout",
     "output_type": "stream",
     "text": [
      "5.0\n"
     ]
    }
   ],
   "source": [
    "#Tirando a raiz quadrada\n",
    "import math\n",
    "print(math.sqrt(25))"
   ]
  },
  {
   "cell_type": "code",
   "execution_count": 8,
   "id": "f0a62932",
   "metadata": {},
   "outputs": [],
   "source": [
    "#Importando os pacotes e colocando os apelidos de cada um\n",
    "import numpy as np\n",
    "import pandas as pd\n",
    "import statsmodels as sm"
   ]
  },
  {
   "cell_type": "markdown",
   "id": "04c9e9df",
   "metadata": {},
   "source": [
    "### Séries de valores"
   ]
  },
  {
   "cell_type": "code",
   "execution_count": 9,
   "id": "8c992252",
   "metadata": {},
   "outputs": [
    {
     "name": "stdout",
     "output_type": "stream",
     "text": [
      "0    1\n",
      "1    2\n",
      "2    3\n",
      "3    4\n",
      "4    5\n",
      "dtype: int64\n"
     ]
    }
   ],
   "source": [
    "#Séries de valores\n",
    "numeros = pd.Series([1,2,3,4,5])\n",
    "print(numeros)"
   ]
  },
  {
   "cell_type": "code",
   "execution_count": 10,
   "id": "c3a0d98e",
   "metadata": {},
   "outputs": [
    {
     "name": "stdout",
     "output_type": "stream",
     "text": [
      "0     6\n",
      "1     7\n",
      "2     8\n",
      "3     9\n",
      "4    10\n",
      "dtype: int64\n"
     ]
    }
   ],
   "source": [
    "#Séries de valores\n",
    "numeros_lista = pd.Series([6,7,8,9,10])\n",
    "print(numeros_lista)"
   ]
  },
  {
   "cell_type": "code",
   "execution_count": 11,
   "id": "2ce07fe5",
   "metadata": {},
   "outputs": [
    {
     "name": "stdout",
     "output_type": "stream",
     "text": [
      "0     João\n",
      "1    Maria\n",
      "2    Pedro\n",
      "3    Paula\n",
      "dtype: object\n"
     ]
    }
   ],
   "source": [
    "#Criando um vetor com textos, isto é com caracteres:\n",
    "pessoas = pd.Series([\"João\", \"Maria\", \"Pedro\", \"Paula\"])\n",
    "print(pessoas)"
   ]
  },
  {
   "cell_type": "code",
   "execution_count": 12,
   "id": "75fb813c",
   "metadata": {},
   "outputs": [
    {
     "name": "stdout",
     "output_type": "stream",
     "text": [
      "0     True\n",
      "1    False\n",
      "2     True\n",
      "3     True\n",
      "4    False\n",
      "5    False\n",
      "dtype: bool\n"
     ]
    }
   ],
   "source": [
    "#Criando um vetor com argumentos lógicos:\n",
    "logico = pd.Series([True, False, True, True, False, False])\n",
    "print(logico)"
   ]
  },
  {
   "cell_type": "markdown",
   "id": "af76be9e",
   "metadata": {},
   "source": [
    "### Saber qual é o tipo das variáveis"
   ]
  },
  {
   "cell_type": "code",
   "execution_count": 13,
   "id": "c58d1dbb",
   "metadata": {},
   "outputs": [
    {
     "name": "stdout",
     "output_type": "stream",
     "text": [
      "<class 'int'>\n",
      "<class 'str'>\n",
      "<class 'bool'>\n",
      "<class 'pandas.core.series.Series'>\n"
     ]
    }
   ],
   "source": [
    "#Para saber qual é a classe de objetos:\n",
    "print(type(1))\n",
    "print(type(\"João\"))\n",
    "print(type(True))\n",
    "print(type(pessoas))"
   ]
  },
  {
   "cell_type": "markdown",
   "id": "90fcba53",
   "metadata": {},
   "source": [
    "### Comprimento das séries"
   ]
  },
  {
   "cell_type": "code",
   "execution_count": 14,
   "id": "4ee71ee0",
   "metadata": {},
   "outputs": [
    {
     "name": "stdout",
     "output_type": "stream",
     "text": [
      "5\n",
      "4\n",
      "6\n"
     ]
    }
   ],
   "source": [
    "#Para saber o comprimento de uma série, é possível utilizar len():\n",
    "print(len(numeros))\n",
    "print(len(pessoas))\n",
    "print(len(logico))"
   ]
  },
  {
   "cell_type": "markdown",
   "id": "d615588f",
   "metadata": {},
   "source": [
    "### Criando sequência de números"
   ]
  },
  {
   "cell_type": "code",
   "execution_count": 15,
   "id": "e1da38ed",
   "metadata": {},
   "outputs": [
    {
     "name": "stdout",
     "output_type": "stream",
     "text": [
      "[1 2 3 4 5 6 7 8 9]\n"
     ]
    }
   ],
   "source": [
    "import numpy as np\n",
    "sequencia_1 = np.arange(1,10)\n",
    "print(sequencia_1)"
   ]
  },
  {
   "cell_type": "code",
   "execution_count": 16,
   "id": "a67f276d",
   "metadata": {},
   "outputs": [
    {
     "name": "stdout",
     "output_type": "stream",
     "text": [
      "[1.  1.5 2.  2.5 3.  3.5 4.  4.5 5.  5.5 6.  6.5 7.  7.5 8.  8.5 9.  9.5]\n"
     ]
    }
   ],
   "source": [
    "sequencia_2 = np.arange(1, 10, 0.5)\n",
    "print(sequencia_2)"
   ]
  },
  {
   "cell_type": "code",
   "execution_count": 17,
   "id": "d746b3d1",
   "metadata": {},
   "outputs": [
    {
     "name": "stdout",
     "output_type": "stream",
     "text": [
      "[500 501 502 503 504 505 506 507 508 509 510 511 512 513 514 515 516 517\n",
      " 518 519 520 521 522 523 524 525 526 527 528 529 530 531 532 533 534 535\n",
      " 536 537 538 539 540 541 542 543 544 545 546 547 548 549 550 551 552 553\n",
      " 554 555 556 557 558 559 560 561 562 563 564 565 566 567 568 569 570 571\n",
      " 572 573 574 575 576 577 578 579 580 581 582 583 584 585 586 587 588 589\n",
      " 590 591 592 593 594 595 596 597 598 599]\n"
     ]
    }
   ],
   "source": [
    "sequencia_1 = np.arange(500, 600)\n",
    "print(sequencia_1)"
   ]
  },
  {
   "cell_type": "code",
   "execution_count": 18,
   "id": "17fa9663",
   "metadata": {},
   "outputs": [
    {
     "name": "stdout",
     "output_type": "stream",
     "text": [
      "0           1\n",
      "1           2\n",
      "2           3\n",
      "3        Azul\n",
      "4       Verde\n",
      "5    Vermelho\n",
      "6        True\n",
      "7       False\n",
      "8        True\n",
      "dtype: object\n"
     ]
    }
   ],
   "source": [
    "varios = pd.Series([1, 2, 3, 'Azul', 'Verde', 'Vermelho', True, False, True])\n",
    "print(varios)"
   ]
  },
  {
   "cell_type": "code",
   "execution_count": 19,
   "id": "6c13d086",
   "metadata": {},
   "outputs": [
    {
     "name": "stdout",
     "output_type": "stream",
     "text": [
      "0     True\n",
      "1    False\n",
      "2    False\n",
      "3    False\n",
      "4    False\n",
      "dtype: bool\n"
     ]
    }
   ],
   "source": [
    "#Igualdade\n",
    "print(numeros==1)"
   ]
  },
  {
   "cell_type": "code",
   "execution_count": 20,
   "id": "c6ea0047",
   "metadata": {},
   "outputs": [
    {
     "name": "stdout",
     "output_type": "stream",
     "text": [
      "0     2\n",
      "1     4\n",
      "2     6\n",
      "3     8\n",
      "4    10\n",
      "dtype: int64\n"
     ]
    }
   ],
   "source": [
    "#Multiplicação\n",
    "print(numeros*2)"
   ]
  },
  {
   "cell_type": "code",
   "execution_count": 21,
   "id": "90430b41",
   "metadata": {},
   "outputs": [
    {
     "name": "stdout",
     "output_type": "stream",
     "text": [
      "0     3\n",
      "1     6\n",
      "2     9\n",
      "3    12\n",
      "4    15\n",
      "dtype: int64\n"
     ]
    }
   ],
   "source": [
    "#Multiplicação e criação de objeto\n",
    "triplo_numeros = numeros*3\n",
    "print(triplo_numeros)"
   ]
  },
  {
   "cell_type": "code",
   "execution_count": 22,
   "id": "033b8d45",
   "metadata": {},
   "outputs": [
    {
     "name": "stdout",
     "output_type": "stream",
     "text": [
      "0    0.5\n",
      "1    1.0\n",
      "2    1.5\n",
      "3    2.0\n",
      "4    2.5\n",
      "dtype: float64\n"
     ]
    }
   ],
   "source": [
    "#Divisão e criação de objeto\n",
    "metade_numeros = numeros / 2\n",
    "print(metade_numeros)"
   ]
  },
  {
   "cell_type": "code",
   "execution_count": 23,
   "id": "c775351a",
   "metadata": {},
   "outputs": [
    {
     "name": "stdout",
     "output_type": "stream",
     "text": [
      "0    False\n",
      "1     True\n",
      "2     True\n",
      "3     True\n",
      "dtype: bool\n"
     ]
    }
   ],
   "source": [
    "#Comparando textos (verificando diferença)\n",
    "print(pessoas != \"João\")"
   ]
  },
  {
   "cell_type": "code",
   "execution_count": 24,
   "id": "c6744a65",
   "metadata": {},
   "outputs": [
    {
     "name": "stdout",
     "output_type": "stream",
     "text": [
      "[False False False False False False False False False  True  True  True\n",
      "  True  True  True  True  True  True]\n"
     ]
    }
   ],
   "source": [
    "#Comparando números (maior)\n",
    "print(sequencia_2>5)"
   ]
  },
  {
   "cell_type": "code",
   "execution_count": 25,
   "id": "314dc255",
   "metadata": {},
   "outputs": [
    {
     "name": "stdout",
     "output_type": "stream",
     "text": [
      "[False False False False False False False  True  True  True  True  True\n",
      "  True  True  True  True  True  True]\n"
     ]
    }
   ],
   "source": [
    "#Comparando números (maior ou igual)\n",
    "print(sequencia_2 >= 4.5)"
   ]
  },
  {
   "cell_type": "code",
   "execution_count": 26,
   "id": "05a095ba",
   "metadata": {},
   "outputs": [
    {
     "name": "stdout",
     "output_type": "stream",
     "text": [
      "0     alto\n",
      "1    médio\n",
      "2     alto\n",
      "3    baixo\n",
      "4    médio\n",
      "5     alto\n",
      "dtype: category\n",
      "Categories (3, object): ['alto', 'baixo', 'médio']\n"
     ]
    }
   ],
   "source": [
    "#Podemos criar uma variável definida como categórica, isto é, qualitativa\n",
    "altura = pd.Series([\"alto\", \"médio\", \"alto\", \"baixo\", \"médio\", \"alto\"], dtype=\"category\")\n",
    "print(altura)"
   ]
  },
  {
   "cell_type": "markdown",
   "id": "623c4ddb",
   "metadata": {},
   "source": [
    "### Criando DataFrames - Banco de Dados"
   ]
  },
  {
   "cell_type": "code",
   "execution_count": 27,
   "id": "2118f1c7",
   "metadata": {},
   "outputs": [],
   "source": [
    "banco_dados_um = pd.DataFrame({'var_1':[\"pessoa 1\", \"pessoa 2\", \"pessoa 3\"],\n",
    "                               'var_2':[42, 55, 28]})\n"
   ]
  },
  {
   "cell_type": "code",
   "execution_count": 28,
   "id": "588c9b7f",
   "metadata": {},
   "outputs": [
    {
     "name": "stdout",
     "output_type": "stream",
     "text": [
      "[ 1  2  3  4  5  6  7  8  9 10]\n",
      "0    1.0\n",
      "1    2.0\n",
      "2    3.0\n",
      "3    4.0\n",
      "4    5.0\n",
      "5    6.0\n",
      "6    7.0\n",
      "7    8.0\n",
      "8    NaN\n",
      "9    NaN\n",
      "dtype: float64\n",
      "0    a\n",
      "1    b\n",
      "2    c\n",
      "3    d\n",
      "4    e\n",
      "5    f\n",
      "6    g\n",
      "7    h\n",
      "8    i\n",
      "9    j\n",
      "dtype: object\n"
     ]
    }
   ],
   "source": [
    "#Vamos criar 3 variáveis para formar o dataset\n",
    "variavel_um = np.arange(1,11)\n",
    "variavel_dois = pd.Series([1,2,3,4,5,6,7,8,None,None])\n",
    "variavel_tres = pd.Series([\"a\",\"b\",\"c\",\"d\",\"e\",\"f\",\"g\",\"h\",\"i\",\"j\"])\n",
    "\n",
    "print(variavel_um)\n",
    "print(variavel_dois)\n",
    "print(variavel_tres)"
   ]
  },
  {
   "cell_type": "code",
   "execution_count": 29,
   "id": "f1c7e3ed",
   "metadata": {},
   "outputs": [
    {
     "name": "stdout",
     "output_type": "stream",
     "text": [
      "   posicao  faltam letras\n",
      "0        1     1.0      a\n",
      "1        2     2.0      b\n",
      "2        3     3.0      c\n",
      "3        4     4.0      d\n",
      "4        5     5.0      e\n",
      "5        6     6.0      f\n",
      "6        7     7.0      g\n",
      "7        8     8.0      h\n",
      "8        9     NaN      i\n",
      "9       10     NaN      j\n"
     ]
    }
   ],
   "source": [
    "banco_dados_dois =  pd.DataFrame({'posicao': variavel_um,\n",
    "                                  'faltam' : variavel_dois,\n",
    "                                  'letras' : variavel_tres})\n",
    "\n",
    "                                  \n",
    "print(banco_dados_dois)   "
   ]
  },
  {
   "cell_type": "markdown",
   "id": "55c8558b",
   "metadata": {},
   "source": [
    "### Importando arquivos Excel"
   ]
  },
  {
   "cell_type": "code",
   "execution_count": 30,
   "id": "25c94408",
   "metadata": {},
   "outputs": [],
   "source": [
    "# Note que o pacote relevante para esta função é o pandas \"pd\"\n",
    "preco = pd.read_excel(\"(2) precos_acao.xlsx\")"
   ]
  },
  {
   "cell_type": "code",
   "execution_count": 31,
   "id": "33d96e5e",
   "metadata": {},
   "outputs": [],
   "source": [
    "# Outro formato bastante comum é o (.csv)\n",
    "banco_dados_um.to_csv(\"banco_dados_um_salvo.csv\", index=False)"
   ]
  },
  {
   "cell_type": "code",
   "execution_count": 32,
   "id": "525f4127",
   "metadata": {},
   "outputs": [
    {
     "name": "stdout",
     "output_type": "stream",
     "text": [
      "                                                 Time Time Code  \\\n",
      "0                                                2020    YR2020   \n",
      "1                                                2020    YR2020   \n",
      "2                                                2020    YR2020   \n",
      "3                                                2020    YR2020   \n",
      "4                                                2020    YR2020   \n",
      "..                                                ...       ...   \n",
      "266                                               NaN       NaN   \n",
      "267                                               NaN       NaN   \n",
      "268                                               NaN       NaN   \n",
      "269  Data from database: World Development Indicators       NaN   \n",
      "270                          Last Updated: 04/08/2022       NaN   \n",
      "\n",
      "       Country Name Country Code  \\\n",
      "0       Afghanistan          AFG   \n",
      "1           Albania          ALB   \n",
      "2           Algeria          DZA   \n",
      "3    American Samoa          ASM   \n",
      "4           Andorra          AND   \n",
      "..              ...          ...   \n",
      "266             NaN          NaN   \n",
      "267             NaN          NaN   \n",
      "268             NaN          NaN   \n",
      "269             NaN          NaN   \n",
      "270             NaN          NaN   \n",
      "\n",
      "    GDP per capita growth (annual %) [NY.GDP.PCAP.KD.ZG]  \\\n",
      "0                                    -4.57503186436271     \n",
      "1                                    -3.39870846788662     \n",
      "2                                    -6.82696362319118     \n",
      "3                                     4.13808366254634     \n",
      "4                                    -12.0882996669955     \n",
      "..                                                 ...     \n",
      "266                                                NaN     \n",
      "267                                                NaN     \n",
      "268                                                NaN     \n",
      "269                                                NaN     \n",
      "270                                                NaN     \n",
      "\n",
      "    GDP growth (annual %) [NY.GDP.MKTP.KD.ZG]  \n",
      "0                           -2.35110067344623  \n",
      "1                           -3.95539792669307  \n",
      "2                           -5.09999999999982  \n",
      "3                            3.92156862745099  \n",
      "4                           -11.9526932539653  \n",
      "..                                        ...  \n",
      "266                                       NaN  \n",
      "267                                       NaN  \n",
      "268                                       NaN  \n",
      "269                                       NaN  \n",
      "270                                       NaN  \n",
      "\n",
      "[271 rows x 6 columns]\n"
     ]
    }
   ],
   "source": [
    "# Aqui estamos configurando para exportar sem o index\n",
    "pib_paises = pd.read_csv(\"(2) pib_paises.csv\", sep=\",\", decimal=\".\")\n",
    "print(pib_paises)"
   ]
  },
  {
   "cell_type": "code",
   "execution_count": 33,
   "id": "99c30ec1",
   "metadata": {},
   "outputs": [
    {
     "data": {
      "application/vnd.microsoft.datawrangler.viewer.v0+json": {
       "columns": [
        {
         "name": "index",
         "rawType": "int64",
         "type": "integer"
        },
        {
         "name": "data",
         "rawType": "object",
         "type": "string"
        },
        {
         "name": "valor",
         "rawType": "int64",
         "type": "integer"
        }
       ],
       "ref": "d7de2d19-7a1a-4ed7-b7ae-f84348a8c457",
       "rows": [
        [
         "0",
         "01/01/2010",
         "7703"
        ],
        [
         "1",
         "01/02/2010",
         "16016"
        ],
        [
         "2",
         "01/03/2010",
         "25462"
        ],
        [
         "3",
         "01/04/2010",
         "35621"
        ],
        [
         "4",
         "01/05/2010",
         "46036"
        ]
       ],
       "shape": {
        "columns": 2,
        "rows": 5
       }
      },
      "text/html": [
       "<div>\n",
       "<style scoped>\n",
       "    .dataframe tbody tr th:only-of-type {\n",
       "        vertical-align: middle;\n",
       "    }\n",
       "\n",
       "    .dataframe tbody tr th {\n",
       "        vertical-align: top;\n",
       "    }\n",
       "\n",
       "    .dataframe thead th {\n",
       "        text-align: right;\n",
       "    }\n",
       "</style>\n",
       "<table border=\"1\" class=\"dataframe\">\n",
       "  <thead>\n",
       "    <tr style=\"text-align: right;\">\n",
       "      <th></th>\n",
       "      <th>data</th>\n",
       "      <th>valor</th>\n",
       "    </tr>\n",
       "  </thead>\n",
       "  <tbody>\n",
       "    <tr>\n",
       "      <th>0</th>\n",
       "      <td>01/01/2010</td>\n",
       "      <td>7703</td>\n",
       "    </tr>\n",
       "    <tr>\n",
       "      <th>1</th>\n",
       "      <td>01/02/2010</td>\n",
       "      <td>16016</td>\n",
       "    </tr>\n",
       "    <tr>\n",
       "      <th>2</th>\n",
       "      <td>01/03/2010</td>\n",
       "      <td>25462</td>\n",
       "    </tr>\n",
       "    <tr>\n",
       "      <th>3</th>\n",
       "      <td>01/04/2010</td>\n",
       "      <td>35621</td>\n",
       "    </tr>\n",
       "    <tr>\n",
       "      <th>4</th>\n",
       "      <td>01/05/2010</td>\n",
       "      <td>46036</td>\n",
       "    </tr>\n",
       "  </tbody>\n",
       "</table>\n",
       "</div>"
      ],
      "text/plain": [
       "         data  valor\n",
       "0  01/01/2010   7703\n",
       "1  01/02/2010  16016\n",
       "2  01/03/2010  25462\n",
       "3  01/04/2010  35621\n",
       "4  01/05/2010  46036"
      ]
     },
     "execution_count": 33,
     "metadata": {},
     "output_type": "execute_result"
    }
   ],
   "source": [
    "# Uma ferramenta interessante é a coleta dos dados diretamente nos links\n",
    "# Desembolsos do sistema BNDES - Total - em milhões de Reais\n",
    "# Fonte: Banco Central do Brasil\n",
    "bndes = pd.read_csv(\"http://api.bcb.gov.br/dados/serie/bcdata.sgs.7415/dados?formato=csv&dataInicial=01/01/2010&dataFinal=31/12/2020\", sep = \";\")\n",
    "bndes.head()"
   ]
  },
  {
   "cell_type": "code",
   "execution_count": 34,
   "id": "cba80908",
   "metadata": {},
   "outputs": [],
   "source": [
    "#Salvando (exportando) os dados\n",
    "banco_dados_um.to_csv(\"banco_dados_um_salvo.csv\", index=False)\n",
    "banco_dados_dois.to_excel(\"banco_dados_dois_salvo.xlsx\", index=False)"
   ]
  },
  {
   "cell_type": "markdown",
   "id": "e15dd82c",
   "metadata": {},
   "source": [
    "### Criando funções"
   ]
  },
  {
   "cell_type": "code",
   "execution_count": 35,
   "id": "c64d4e0b",
   "metadata": {},
   "outputs": [
    {
     "name": "stdout",
     "output_type": "stream",
     "text": [
      "9.0\n"
     ]
    }
   ],
   "source": [
    "# Exemplo: todo dia atualizamos milhares de valores somando 17 e dividindo por 2\n",
    "# Ao invés de repetir a mesma conta toda vez, poderíamos criar uma função:\n",
    "def atualizar (historico):\n",
    "    atual = ((historico + 17)/2)\n",
    "    return atual\n",
    "\n",
    "print(atualizar(1))"
   ]
  },
  {
   "cell_type": "code",
   "execution_count": 36,
   "id": "7ae84544",
   "metadata": {},
   "outputs": [
    {
     "name": "stdout",
     "output_type": "stream",
     "text": [
      "[ 9.   9.5 10.  10.5 11.  11.5 12.  12.5 13.  13.5 14.  14.5 15.  15.5\n",
      " 16. ]\n"
     ]
    }
   ],
   "source": [
    "# Ainda menos repetitivo, poderíamos criar um vetor com todos os valores\n",
    "# Em seguida, o vetor entra como input na função para retornar todos os valores\n",
    "import numpy as np\n",
    "atualizar_hoje = np.arange(1, 16)\n",
    "print(atualizar(atualizar_hoje))"
   ]
  },
  {
   "cell_type": "code",
   "execution_count": 37,
   "id": "cdd4b125",
   "metadata": {},
   "outputs": [
    {
     "name": "stdout",
     "output_type": "stream",
     "text": [
      "14.0\n",
      "19.0\n",
      "9.5\n"
     ]
    }
   ],
   "source": [
    "# Poderíamos ter uma função com mais de um input. Por exemplo\n",
    "def ajustar(valor1, valor2):\n",
    "  ajuste = ((valor1 + 180)/(valor2 - 60))\n",
    "  return ajuste\n",
    "\n",
    "print(ajustar(100, 80))\n",
    "print(ajustar(200, 80))\n",
    "print(ajustar(200, 100))"
   ]
  },
  {
   "cell_type": "markdown",
   "id": "7114e12c",
   "metadata": {},
   "source": [
    "### Condicionais"
   ]
  },
  {
   "cell_type": "code",
   "execution_count": 38,
   "id": "492145a6",
   "metadata": {},
   "outputs": [
    {
     "name": "stdout",
     "output_type": "stream",
     "text": [
      "número grande\n",
      "número intermediário\n"
     ]
    }
   ],
   "source": [
    "# Neste contexto de funções, as condições \"if, elif e else\" são importantes\n",
    "# Primeiramente, estabelecemos a condição\n",
    "# Logo após, no primeiro print(), vamos estabelecer o resultado caso if == TRUE\n",
    "# Na sequência, estabelecemos o else, ou seja, o restante caso if == FALSE\n",
    "# Portanto, o segundo print() indica o que retornar se a condição não for atendida\n",
    "\n",
    "valor = 100000\n",
    "\n",
    "if valor >= 100000:\n",
    "    print(\"número grande\")\n",
    "else:\n",
    "    print(\"número pequeno\")\n",
    "\n",
    "#%% Múltiplas condições\n",
    "\n",
    "# Também poderíamos ter múltiplos critérios utilizando o \"elif\"\n",
    "\n",
    "valor = 650000\n",
    "\n",
    "if valor >= 1000000:\n",
    "  print(\"número grande\")\n",
    "elif valor >= 500000 and valor < 1000000:\n",
    "  print(\"número intermediário\")\n",
    "else:\n",
    "  print(\"número pequeno\")\n",
    "  \n",
    "# Adicionamos uma condição intermediária (e seu respectivo retorno - print()) com o elif"
   ]
  },
  {
   "cell_type": "markdown",
   "id": "d93f060d",
   "metadata": {},
   "source": [
    "### Funções e Condições"
   ]
  },
  {
   "cell_type": "code",
   "execution_count": 39,
   "id": "c4387f18",
   "metadata": {},
   "outputs": [],
   "source": [
    "# É possível integrar condições (\"if\") às funções apresentadas anteriormente\n",
    "# Voltando ao exemplo, vamos supor que atualizamos valores só até o limite 100\n",
    "# Valores que seriam atualizados acima dele, ficam no limite estabelecido = 100\n",
    "\n",
    "# Adicionamos o if (condição) {o que retornar quando for satisfeita}\n",
    "# Na sequência, o else {o que retornar quando NÃO for satisfeita}\n",
    "\n",
    "def atualizar_teto(histórico):\n",
    "    \n",
    "    atual = ((histórico + 17)/2)\n",
    "    \n",
    "    if atual <= 100:\n",
    "        return atual\n",
    "    else:\n",
    "        return(\"Atualizado no teto = 100\")"
   ]
  },
  {
   "cell_type": "code",
   "execution_count": 40,
   "id": "82546862",
   "metadata": {},
   "outputs": [
    {
     "name": "stdout",
     "output_type": "stream",
     "text": [
      "30.5\n",
      "Atualizado no teto = 100\n",
      "baixo\n",
      "alto\n",
      "médio\n"
     ]
    }
   ],
   "source": [
    "print(atualizar_teto(44))\n",
    "print(atualizar_teto(199))\n",
    "\n",
    "def ajustar_mult(valor1,valor2):\n",
    "    \n",
    "    ajuste = ((valor1 + 180)/(valor2 - 60))\n",
    "    \n",
    "    if ajuste <= 100:\n",
    "        return \"baixo\"\n",
    "    elif ajuste > 100 and ajuste <= 1000:\n",
    "        return \"médio\"\n",
    "    else:\n",
    "        return \"alto\"\n",
    "\n",
    "print(ajustar_mult(500, 300)) # resultado = 2,8333)\n",
    "print(ajustar_mult(50000,100)) # resultado = 1.254,50)\n",
    "print(ajustar_mult(1000, 70)) # resultado = 118)"
   ]
  },
  {
   "cell_type": "markdown",
   "id": "bb8d165a",
   "metadata": {},
   "source": [
    "### Integrando novas funções e códigos existentes"
   ]
  },
  {
   "cell_type": "code",
   "execution_count": 41,
   "id": "7fccd0a7",
   "metadata": {},
   "outputs": [
    {
     "name": "stdout",
     "output_type": "stream",
     "text": [
      "8.0\n"
     ]
    }
   ],
   "source": [
    "# Nos exemplos acima, criamos nossas funções que utilizamos em cada código \n",
    "# Porém, também poderíamos utilizar funções já existentes\n",
    "# Ou seja, o código pode conter uma grande diversidade de funções já existentes\n",
    "\n",
    "import pandas as pd\n",
    "\n",
    "def médias(x):\n",
    "  media = np.mean(x)\n",
    "  return media\n",
    "\n",
    "valores = pd.Series([1, 4, 6, 9, 12, 16])\n",
    "print(médias(valores))"
   ]
  },
  {
   "cell_type": "markdown",
   "id": "adf8d50e",
   "metadata": {},
   "source": [
    "### Iterações"
   ]
  },
  {
   "cell_type": "code",
   "execution_count": 42,
   "id": "cf571251",
   "metadata": {},
   "outputs": [
    {
     "name": "stdout",
     "output_type": "stream",
     "text": [
      "9.0\n",
      "9.5\n",
      "10.0\n",
      "10.5\n",
      "11.0\n",
      "11.5\n",
      "12.0\n",
      "12.5\n",
      "13.0\n",
      "13.5\n",
      "14.0\n",
      "14.5\n",
      "15.0\n",
      "15.5\n",
      "16.0\n"
     ]
    }
   ],
   "source": [
    "for i in atualizar_hoje:\n",
    "    print((i + 17)/2)\n",
    "    \n",
    "# Interpretação: para todo valor i que consta no array \"atualizar_hoje\"\n",
    "# Faça o print do resultado (valor i + 17)/2"
   ]
  },
  {
   "cell_type": "code",
   "execution_count": 43,
   "id": "e75da591",
   "metadata": {},
   "outputs": [
    {
     "name": "stdout",
     "output_type": "stream",
     "text": [
      "22\n",
      "42\n",
      "62\n",
      "82\n",
      "102\n"
     ]
    }
   ],
   "source": [
    "# O while() permite que seja adicionada uma condição do tipo \"enquanto\"\n",
    "\n",
    "valores = 2\n",
    "\n",
    "while valores < 100:\n",
    "    valores = valores + 20\n",
    "    print(valores)\n",
    "\n",
    "# Interpretação: enquanto o resultado de valores for menor do que 100, some 20"
   ]
  },
  {
   "cell_type": "code",
   "execution_count": 44,
   "id": "9790d067",
   "metadata": {},
   "outputs": [],
   "source": [
    "# Vamos utilizar como exemplo a base de dados de desempenho dos alunos\n",
    "# Fonte: Fávero e Belfiore (2017, Capítulo 16)\n",
    "desempenho_aluno_escola = pd.read_csv(\"(2) desempenho_aluno_escola.csv\", delimiter=\",\")"
   ]
  },
  {
   "cell_type": "code",
   "execution_count": 45,
   "id": "fd202aca",
   "metadata": {},
   "outputs": [
    {
     "data": {
      "application/vnd.microsoft.datawrangler.viewer.v0+json": {
       "columns": [
        {
         "name": "index",
         "rawType": "int64",
         "type": "integer"
        },
        {
         "name": "escola",
         "rawType": "object",
         "type": "string"
        },
        {
         "name": "estudante",
         "rawType": "int64",
         "type": "integer"
        },
        {
         "name": "desempenho",
         "rawType": "float64",
         "type": "float"
        },
        {
         "name": "horas",
         "rawType": "float64",
         "type": "float"
        },
        {
         "name": "texp",
         "rawType": "float64",
         "type": "float"
        },
        {
         "name": "priv",
         "rawType": "object",
         "type": "string"
        }
       ],
       "ref": "1c0d362e-c7d6-4981-a70b-4be75545f8c1",
       "rows": [
        [
         "0",
         "A",
         "1",
         "35.4000015258789",
         "11.0",
         "2.0",
         "pública"
        ],
        [
         "1",
         "A",
         "2",
         "74.8999938964844",
         "23.0",
         "2.0",
         "pública"
        ],
        [
         "2",
         "A",
         "3",
         "86.6999969482422",
         "25.0",
         "2.0",
         "pública"
        ],
        [
         "3",
         "A",
         "4",
         "53.6999969482422",
         "14.0",
         "2.0",
         "pública"
        ],
        [
         "4",
         "A",
         "5",
         "79.6999969482422",
         "24.0",
         "2.0",
         "pública"
        ],
        [
         "5",
         "A",
         "6",
         "41.7000007629395",
         "11.0",
         "2.0",
         "pública"
        ],
        [
         "6",
         "A",
         "7",
         "10.5",
         "5.0",
         "2.0",
         "pública"
        ],
        [
         "7",
         "A",
         "8",
         "30.1000003814697",
         "7.0",
         "2.0",
         "pública"
        ],
        [
         "8",
         "A",
         "9",
         "22.8999996185303",
         "9.0",
         "2.0",
         "pública"
        ],
        [
         "9",
         "A",
         "10",
         "90.1000061035156",
         "28.0",
         "2.0",
         "pública"
        ]
       ],
       "shape": {
        "columns": 6,
        "rows": 10
       }
      },
      "text/html": [
       "<div>\n",
       "<style scoped>\n",
       "    .dataframe tbody tr th:only-of-type {\n",
       "        vertical-align: middle;\n",
       "    }\n",
       "\n",
       "    .dataframe tbody tr th {\n",
       "        vertical-align: top;\n",
       "    }\n",
       "\n",
       "    .dataframe thead th {\n",
       "        text-align: right;\n",
       "    }\n",
       "</style>\n",
       "<table border=\"1\" class=\"dataframe\">\n",
       "  <thead>\n",
       "    <tr style=\"text-align: right;\">\n",
       "      <th></th>\n",
       "      <th>escola</th>\n",
       "      <th>estudante</th>\n",
       "      <th>desempenho</th>\n",
       "      <th>horas</th>\n",
       "      <th>texp</th>\n",
       "      <th>priv</th>\n",
       "    </tr>\n",
       "  </thead>\n",
       "  <tbody>\n",
       "    <tr>\n",
       "      <th>0</th>\n",
       "      <td>A</td>\n",
       "      <td>1</td>\n",
       "      <td>35.400002</td>\n",
       "      <td>11.0</td>\n",
       "      <td>2.0</td>\n",
       "      <td>pública</td>\n",
       "    </tr>\n",
       "    <tr>\n",
       "      <th>1</th>\n",
       "      <td>A</td>\n",
       "      <td>2</td>\n",
       "      <td>74.899994</td>\n",
       "      <td>23.0</td>\n",
       "      <td>2.0</td>\n",
       "      <td>pública</td>\n",
       "    </tr>\n",
       "    <tr>\n",
       "      <th>2</th>\n",
       "      <td>A</td>\n",
       "      <td>3</td>\n",
       "      <td>86.699997</td>\n",
       "      <td>25.0</td>\n",
       "      <td>2.0</td>\n",
       "      <td>pública</td>\n",
       "    </tr>\n",
       "    <tr>\n",
       "      <th>3</th>\n",
       "      <td>A</td>\n",
       "      <td>4</td>\n",
       "      <td>53.699997</td>\n",
       "      <td>14.0</td>\n",
       "      <td>2.0</td>\n",
       "      <td>pública</td>\n",
       "    </tr>\n",
       "    <tr>\n",
       "      <th>4</th>\n",
       "      <td>A</td>\n",
       "      <td>5</td>\n",
       "      <td>79.699997</td>\n",
       "      <td>24.0</td>\n",
       "      <td>2.0</td>\n",
       "      <td>pública</td>\n",
       "    </tr>\n",
       "    <tr>\n",
       "      <th>5</th>\n",
       "      <td>A</td>\n",
       "      <td>6</td>\n",
       "      <td>41.700001</td>\n",
       "      <td>11.0</td>\n",
       "      <td>2.0</td>\n",
       "      <td>pública</td>\n",
       "    </tr>\n",
       "    <tr>\n",
       "      <th>6</th>\n",
       "      <td>A</td>\n",
       "      <td>7</td>\n",
       "      <td>10.500000</td>\n",
       "      <td>5.0</td>\n",
       "      <td>2.0</td>\n",
       "      <td>pública</td>\n",
       "    </tr>\n",
       "    <tr>\n",
       "      <th>7</th>\n",
       "      <td>A</td>\n",
       "      <td>8</td>\n",
       "      <td>30.100000</td>\n",
       "      <td>7.0</td>\n",
       "      <td>2.0</td>\n",
       "      <td>pública</td>\n",
       "    </tr>\n",
       "    <tr>\n",
       "      <th>8</th>\n",
       "      <td>A</td>\n",
       "      <td>9</td>\n",
       "      <td>22.900000</td>\n",
       "      <td>9.0</td>\n",
       "      <td>2.0</td>\n",
       "      <td>pública</td>\n",
       "    </tr>\n",
       "    <tr>\n",
       "      <th>9</th>\n",
       "      <td>A</td>\n",
       "      <td>10</td>\n",
       "      <td>90.100006</td>\n",
       "      <td>28.0</td>\n",
       "      <td>2.0</td>\n",
       "      <td>pública</td>\n",
       "    </tr>\n",
       "  </tbody>\n",
       "</table>\n",
       "</div>"
      ],
      "text/plain": [
       "  escola  estudante  desempenho  horas  texp     priv\n",
       "0      A          1   35.400002   11.0   2.0  pública\n",
       "1      A          2   74.899994   23.0   2.0  pública\n",
       "2      A          3   86.699997   25.0   2.0  pública\n",
       "3      A          4   53.699997   14.0   2.0  pública\n",
       "4      A          5   79.699997   24.0   2.0  pública\n",
       "5      A          6   41.700001   11.0   2.0  pública\n",
       "6      A          7   10.500000    5.0   2.0  pública\n",
       "7      A          8   30.100000    7.0   2.0  pública\n",
       "8      A          9   22.900000    9.0   2.0  pública\n",
       "9      A         10   90.100006   28.0   2.0  pública"
      ]
     },
     "execution_count": 45,
     "metadata": {},
     "output_type": "execute_result"
    }
   ],
   "source": [
    "# Visualizar os dados\n",
    "# Vamos olhar apenas a parte inicial do banco de dados (10 primeiras linhas)\n",
    "desempenho_aluno_escola.head(10)"
   ]
  },
  {
   "cell_type": "markdown",
   "id": "b6de2a88",
   "metadata": {},
   "source": [
    "### Verificando as variáveis"
   ]
  },
  {
   "cell_type": "code",
   "execution_count": 46,
   "id": "dfcdf6b4",
   "metadata": {},
   "outputs": [
    {
     "name": "stdout",
     "output_type": "stream",
     "text": [
      "Index(['escola', 'estudante', 'desempenho', 'horas', 'texp', 'priv'], dtype='object')\n"
     ]
    }
   ],
   "source": [
    "# Variáveis do dataset\n",
    "# Quais são os nomes das variáveis disponíveis?\n",
    "print(desempenho_aluno_escola.columns)"
   ]
  },
  {
   "cell_type": "code",
   "execution_count": 47,
   "id": "db623372",
   "metadata": {},
   "outputs": [
    {
     "name": "stdout",
     "output_type": "stream",
     "text": [
      "     escola  estudante  desempenho  horas     priv\n",
      "0         A          1   35.400002   11.0  pública\n",
      "1         A          2   74.899994   23.0  pública\n",
      "2         A          3   86.699997   25.0  pública\n",
      "3         A          4   53.699997   14.0  pública\n",
      "4         A          5   79.699997   24.0  pública\n",
      "...     ...        ...         ...    ...      ...\n",
      "1995     DF       1996   38.500000   15.0  pública\n",
      "1996     DF       1997   37.600002   13.0  pública\n",
      "1997     DF       1998   41.000000   13.0  pública\n",
      "1998     DF       1999   38.200001   12.0  pública\n",
      "1999     DF       2000   56.599998   17.0  pública\n",
      "\n",
      "[2000 rows x 5 columns]\n"
     ]
    }
   ],
   "source": [
    "#%% Removendo uma variável sem uso\n",
    "# Por exemplo, supondo que a variável \"texp\" não será utilizada\n",
    "desempenho_aluno_escola.drop(desempenho_aluno_escola.columns[[4]], axis=1, inplace=True)\n",
    "print(desempenho_aluno_escola)"
   ]
  },
  {
   "cell_type": "code",
   "execution_count": 48,
   "id": "6e63a30d",
   "metadata": {},
   "outputs": [
    {
     "name": "stdout",
     "output_type": "stream",
     "text": [
      "2000\n"
     ]
    }
   ],
   "source": [
    "#%% Número de observações\n",
    "# Ao todo, quantas observações (linhas) existem no banco de dados\n",
    "print(desempenho_aluno_escola.shape[0])"
   ]
  },
  {
   "cell_type": "code",
   "execution_count": 49,
   "id": "54de7061",
   "metadata": {},
   "outputs": [
    {
     "name": "stdout",
     "output_type": "stream",
     "text": [
      "5\n"
     ]
    }
   ],
   "source": [
    "#%% Número de variáveis\n",
    "# Ao todo, quantas variáveis (colunas) existem no banco de dados\n",
    "print(desempenho_aluno_escola.shape[1])"
   ]
  },
  {
   "cell_type": "code",
   "execution_count": 50,
   "id": "897cd3ce",
   "metadata": {},
   "outputs": [
    {
     "name": "stdout",
     "output_type": "stream",
     "text": [
      "(2000, 5)\n"
     ]
    }
   ],
   "source": [
    "#%% Número de observações e variáveis\n",
    "print(desempenho_aluno_escola.shape)"
   ]
  },
  {
   "cell_type": "code",
   "execution_count": 51,
   "id": "06bef3d0",
   "metadata": {},
   "outputs": [
    {
     "name": "stdout",
     "output_type": "stream",
     "text": [
      "<class 'pandas.core.frame.DataFrame'>\n",
      "RangeIndex: 2000 entries, 0 to 1999\n",
      "Data columns (total 5 columns):\n",
      " #   Column      Non-Null Count  Dtype  \n",
      "---  ------      --------------  -----  \n",
      " 0   escola      2000 non-null   object \n",
      " 1   estudante   2000 non-null   int64  \n",
      " 2   desempenho  2000 non-null   float64\n",
      " 3   horas       2000 non-null   float64\n",
      " 4   priv        2000 non-null   object \n",
      "dtypes: float64(2), int64(1), object(2)\n",
      "memory usage: 78.3+ KB\n",
      "None\n"
     ]
    }
   ],
   "source": [
    "# Detalhes das variáveis do dataset\n",
    "# Qual é a estrutura do banco de dados?\n",
    "print(desempenho_aluno_escola.info())"
   ]
  },
  {
   "cell_type": "code",
   "execution_count": 52,
   "id": "fcb5f9f9",
   "metadata": {},
   "outputs": [
    {
     "name": "stdout",
     "output_type": "stream",
     "text": [
      "0       35.400002\n",
      "1       74.899994\n",
      "2       86.699997\n",
      "3       53.699997\n",
      "4       79.699997\n",
      "          ...    \n",
      "1995    38.500000\n",
      "1996    37.600002\n",
      "1997    41.000000\n",
      "1998    38.200001\n",
      "1999    56.599998\n",
      "Name: desempenho, Length: 2000, dtype: float64\n"
     ]
    }
   ],
   "source": [
    "# Selecionando uma variável\n",
    "# Em algumas funções, pode ser necessário especificar uma variável\n",
    "# Indicaremos o nome_objeto_dados['variável']\n",
    "print(desempenho_aluno_escola['desempenho'])"
   ]
  },
  {
   "cell_type": "code",
   "execution_count": 53,
   "id": "1faafe79",
   "metadata": {},
   "outputs": [
    {
     "name": "stdout",
     "output_type": "stream",
     "text": [
      "0       35.400002\n",
      "1       74.899994\n",
      "2       86.699997\n",
      "3       53.699997\n",
      "4       79.699997\n",
      "          ...    \n",
      "1995    38.500000\n",
      "1996    37.600002\n",
      "1997    41.000000\n",
      "1998    38.200001\n",
      "1999    56.599998\n",
      "Name: desempenho, Length: 2000, dtype: float64\n"
     ]
    }
   ],
   "source": [
    "# Criando um objeto com a variável\n",
    "desempenho = desempenho_aluno_escola['desempenho']\n",
    "print(desempenho)"
   ]
  },
  {
   "cell_type": "code",
   "execution_count": 54,
   "id": "4fc0981a",
   "metadata": {},
   "outputs": [
    {
     "name": "stdout",
     "output_type": "stream",
     "text": [
      "0       35.400002\n",
      "1       74.899994\n",
      "2       86.699997\n",
      "3       53.699997\n",
      "4       79.699997\n",
      "          ...    \n",
      "1995    38.500000\n",
      "1996    37.600002\n",
      "1997    41.000000\n",
      "1998    38.200001\n",
      "1999    56.599998\n",
      "Name: desempenho, Length: 2000, dtype: float64\n"
     ]
    }
   ],
   "source": [
    "# Em algumas funções, pode ser necessário especificar uma variável\n",
    "# Indicaremos o nome_objeto_dados['variável']\n",
    "print(desempenho_aluno_escola['desempenho'])\n",
    "\n",
    "#%% Criando um objeto com a variável\n",
    "desempenho = desempenho_aluno_escola['desempenho']"
   ]
  },
  {
   "cell_type": "code",
   "execution_count": 55,
   "id": "d86bb4e7",
   "metadata": {},
   "outputs": [],
   "source": [
    "#%% Removendo um objeto do ambiente\n",
    "# Para remover um objeto do ambiente, pode ser feito da seguinte forma:\n",
    "del desempenho"
   ]
  },
  {
   "cell_type": "code",
   "execution_count": 56,
   "id": "4ddbed09",
   "metadata": {},
   "outputs": [
    {
     "name": "stdout",
     "output_type": "stream",
     "text": [
      "35.4000015258789\n"
     ]
    }
   ],
   "source": [
    "# Qual é o valor do desempenho escolar (variável na 3ª coluna) do 1º aluno?\n",
    "print(desempenho_aluno_escola.iloc[0, 2])\n",
    "# Importante: tanto o index quanto as colunas começam contagem do zero no pandas"
   ]
  },
  {
   "cell_type": "code",
   "execution_count": 57,
   "id": "29857d08",
   "metadata": {},
   "outputs": [
    {
     "name": "stdout",
     "output_type": "stream",
     "text": [
      "escola                A\n",
      "estudante             5\n",
      "desempenho    79.699997\n",
      "horas              24.0\n",
      "priv            pública\n",
      "Name: 4, dtype: object\n"
     ]
    }
   ],
   "source": [
    "# Identificando observações específicas\n",
    "# Quais são os valores de todas as variáveis do 5º aluno?\n",
    "print(desempenho_aluno_escola.iloc[4,])"
   ]
  },
  {
   "cell_type": "code",
   "execution_count": 58,
   "id": "8452caf8",
   "metadata": {},
   "outputs": [
    {
     "data": {
      "application/vnd.microsoft.datawrangler.viewer.v0+json": {
       "columns": [
        {
         "name": "index",
         "rawType": "int64",
         "type": "integer"
        },
        {
         "name": "escola",
         "rawType": "object",
         "type": "string"
        },
        {
         "name": "estudante",
         "rawType": "int64",
         "type": "integer"
        },
        {
         "name": "desempenho",
         "rawType": "float64",
         "type": "float"
        },
        {
         "name": "horas",
         "rawType": "float64",
         "type": "float"
        },
        {
         "name": "priv",
         "rawType": "object",
         "type": "string"
        }
       ],
       "ref": "53044678-83f6-409a-8c62-2130544c7b4d",
       "rows": [
        [
         "6",
         "A",
         "7",
         "10.5",
         "5.0",
         "pública"
        ],
        [
         "7",
         "A",
         "8",
         "30.1000003814697",
         "7.0",
         "pública"
        ],
        [
         "8",
         "A",
         "9",
         "22.8999996185303",
         "9.0",
         "pública"
        ],
        [
         "9",
         "A",
         "10",
         "90.1000061035156",
         "28.0",
         "pública"
        ],
        [
         "10",
         "A",
         "11",
         "45.7000007629395",
         "15.0",
         "pública"
        ]
       ],
       "shape": {
        "columns": 5,
        "rows": 5
       }
      },
      "text/html": [
       "<div>\n",
       "<style scoped>\n",
       "    .dataframe tbody tr th:only-of-type {\n",
       "        vertical-align: middle;\n",
       "    }\n",
       "\n",
       "    .dataframe tbody tr th {\n",
       "        vertical-align: top;\n",
       "    }\n",
       "\n",
       "    .dataframe thead th {\n",
       "        text-align: right;\n",
       "    }\n",
       "</style>\n",
       "<table border=\"1\" class=\"dataframe\">\n",
       "  <thead>\n",
       "    <tr style=\"text-align: right;\">\n",
       "      <th></th>\n",
       "      <th>escola</th>\n",
       "      <th>estudante</th>\n",
       "      <th>desempenho</th>\n",
       "      <th>horas</th>\n",
       "      <th>priv</th>\n",
       "    </tr>\n",
       "  </thead>\n",
       "  <tbody>\n",
       "    <tr>\n",
       "      <th>6</th>\n",
       "      <td>A</td>\n",
       "      <td>7</td>\n",
       "      <td>10.500000</td>\n",
       "      <td>5.0</td>\n",
       "      <td>pública</td>\n",
       "    </tr>\n",
       "    <tr>\n",
       "      <th>7</th>\n",
       "      <td>A</td>\n",
       "      <td>8</td>\n",
       "      <td>30.100000</td>\n",
       "      <td>7.0</td>\n",
       "      <td>pública</td>\n",
       "    </tr>\n",
       "    <tr>\n",
       "      <th>8</th>\n",
       "      <td>A</td>\n",
       "      <td>9</td>\n",
       "      <td>22.900000</td>\n",
       "      <td>9.0</td>\n",
       "      <td>pública</td>\n",
       "    </tr>\n",
       "    <tr>\n",
       "      <th>9</th>\n",
       "      <td>A</td>\n",
       "      <td>10</td>\n",
       "      <td>90.100006</td>\n",
       "      <td>28.0</td>\n",
       "      <td>pública</td>\n",
       "    </tr>\n",
       "    <tr>\n",
       "      <th>10</th>\n",
       "      <td>A</td>\n",
       "      <td>11</td>\n",
       "      <td>45.700001</td>\n",
       "      <td>15.0</td>\n",
       "      <td>pública</td>\n",
       "    </tr>\n",
       "  </tbody>\n",
       "</table>\n",
       "</div>"
      ],
      "text/plain": [
       "   escola  estudante  desempenho  horas     priv\n",
       "6       A          7   10.500000    5.0  pública\n",
       "7       A          8   30.100000    7.0  pública\n",
       "8       A          9   22.900000    9.0  pública\n",
       "9       A         10   90.100006   28.0  pública\n",
       "10      A         11   45.700001   15.0  pública"
      ]
     },
     "execution_count": 58,
     "metadata": {},
     "output_type": "execute_result"
    }
   ],
   "source": [
    "# Identificando algumas observações específicas\n",
    "# Quais são os valores de todas as variáveis para os alunos de 7 a 12?\n",
    "teste = desempenho_aluno_escola.iloc[6:12,]\n",
    "teste.head()\n",
    "# É necessário adicionar uma posição a mais no final"
   ]
  },
  {
   "cell_type": "code",
   "execution_count": 59,
   "id": "13f6df4c",
   "metadata": {},
   "outputs": [
    {
     "name": "stdout",
     "output_type": "stream",
     "text": [
      "0       pública\n",
      "1       pública\n",
      "2       pública\n",
      "3       pública\n",
      "4       pública\n",
      "         ...   \n",
      "1995    pública\n",
      "1996    pública\n",
      "1997    pública\n",
      "1998    pública\n",
      "1999    pública\n",
      "Name: priv, Length: 2000, dtype: object\n"
     ]
    }
   ],
   "source": [
    "#%% Identificando variáveis específicas: posição\n",
    "# Quais são as observações para a variável da 5ª coluna (tipo de escola?)?\n",
    "print(desempenho_aluno_escola.iloc[:,4])"
   ]
  },
  {
   "cell_type": "code",
   "execution_count": 60,
   "id": "2f4789e4",
   "metadata": {},
   "outputs": [
    {
     "name": "stdout",
     "output_type": "stream",
     "text": [
      "0       pública\n",
      "1       pública\n",
      "2       pública\n",
      "3       pública\n",
      "4       pública\n",
      "         ...   \n",
      "1995    pública\n",
      "1996    pública\n",
      "1997    pública\n",
      "1998    pública\n",
      "1999    pública\n",
      "Name: priv, Length: 2000, dtype: object\n"
     ]
    }
   ],
   "source": [
    "# Identificando variáveis específicas: nome da variável\n",
    "# No caso acima, também poderia ser indicada pelo nome da variável\n",
    "print(desempenho_aluno_escola.loc[:,'priv'])"
   ]
  },
  {
   "cell_type": "code",
   "execution_count": 61,
   "id": "2221481d",
   "metadata": {},
   "outputs": [],
   "source": [
    "# Reorganizando a posição das variáveis\n",
    "reorganiza = desempenho_aluno_escola.reindex(['desempenho','estudante','horas','priv','escola'], axis=1)"
   ]
  },
  {
   "cell_type": "code",
   "execution_count": 62,
   "id": "0512e5f1",
   "metadata": {},
   "outputs": [],
   "source": [
    "# Selecionando algumas variáveis pelo nome\n",
    "# Vamos armazenar somente as variáveis estudante (id), desempenho e horas\n",
    "parte_dados_1 = desempenho_aluno_escola[[\"estudante\", \"desempenho\", \"horas\"]]"
   ]
  },
  {
   "cell_type": "code",
   "execution_count": 63,
   "id": "45f958ad",
   "metadata": {},
   "outputs": [],
   "source": [
    "# Excluindo algumas variáveis\n",
    "# As variáveis \"horas\" e \"priv\" poderiam ser excluídas\n",
    "novos_dados_1 = desempenho_aluno_escola.drop(columns=['horas', 'priv'])"
   ]
  },
  {
   "cell_type": "code",
   "execution_count": 64,
   "id": "26f14ed0",
   "metadata": {},
   "outputs": [],
   "source": [
    "# Excluindo algumas observações\n",
    "# Supondo que não vamos analisar os estudantes números 476 até 522\n",
    "# A contagem de linhas na biblioteca pandas sempre começa em 0, portanto:\n",
    "# Estudante 476 está na linha 475\n",
    "# Estudante 522 está na linha 521\n",
    "novos_dados_2 = desempenho_aluno_escola.drop(desempenho_aluno_escola.index[475:522])"
   ]
  },
  {
   "cell_type": "code",
   "execution_count": 65,
   "id": "60480033",
   "metadata": {},
   "outputs": [
    {
     "data": {
      "application/vnd.microsoft.datawrangler.viewer.v0+json": {
       "columns": [
        {
         "name": "index",
         "rawType": "object",
         "type": "string"
        },
        {
         "name": "desempenho",
         "rawType": "float64",
         "type": "float"
        },
        {
         "name": "horas",
         "rawType": "float64",
         "type": "float"
        }
       ],
       "ref": "84522c13-7a3e-44e8-84b7-462b448bb124",
       "rows": [
        [
         "count",
         "2000.0",
         "2000.0"
        ],
        [
         "mean",
         "60.85960002851486",
         "18.6075"
        ],
        [
         "std",
         "21.734986377771946",
         "6.0755987523947015"
        ],
        [
         "min",
         "10.5",
         "4.0"
        ],
        [
         "25%",
         "44.0",
         "14.0"
        ],
        [
         "50%",
         "60.9000015258789",
         "19.0"
        ],
        [
         "75%",
         "78.22500419616698",
         "23.0"
        ],
        [
         "max",
         "108.0",
         "31.0"
        ]
       ],
       "shape": {
        "columns": 2,
        "rows": 8
       }
      },
      "text/html": [
       "<div>\n",
       "<style scoped>\n",
       "    .dataframe tbody tr th:only-of-type {\n",
       "        vertical-align: middle;\n",
       "    }\n",
       "\n",
       "    .dataframe tbody tr th {\n",
       "        vertical-align: top;\n",
       "    }\n",
       "\n",
       "    .dataframe thead th {\n",
       "        text-align: right;\n",
       "    }\n",
       "</style>\n",
       "<table border=\"1\" class=\"dataframe\">\n",
       "  <thead>\n",
       "    <tr style=\"text-align: right;\">\n",
       "      <th></th>\n",
       "      <th>desempenho</th>\n",
       "      <th>horas</th>\n",
       "    </tr>\n",
       "  </thead>\n",
       "  <tbody>\n",
       "    <tr>\n",
       "      <th>count</th>\n",
       "      <td>2000.000000</td>\n",
       "      <td>2000.000000</td>\n",
       "    </tr>\n",
       "    <tr>\n",
       "      <th>mean</th>\n",
       "      <td>60.859600</td>\n",
       "      <td>18.607500</td>\n",
       "    </tr>\n",
       "    <tr>\n",
       "      <th>std</th>\n",
       "      <td>21.734986</td>\n",
       "      <td>6.075599</td>\n",
       "    </tr>\n",
       "    <tr>\n",
       "      <th>min</th>\n",
       "      <td>10.500000</td>\n",
       "      <td>4.000000</td>\n",
       "    </tr>\n",
       "    <tr>\n",
       "      <th>25%</th>\n",
       "      <td>44.000000</td>\n",
       "      <td>14.000000</td>\n",
       "    </tr>\n",
       "    <tr>\n",
       "      <th>50%</th>\n",
       "      <td>60.900002</td>\n",
       "      <td>19.000000</td>\n",
       "    </tr>\n",
       "    <tr>\n",
       "      <th>75%</th>\n",
       "      <td>78.225004</td>\n",
       "      <td>23.000000</td>\n",
       "    </tr>\n",
       "    <tr>\n",
       "      <th>max</th>\n",
       "      <td>108.000000</td>\n",
       "      <td>31.000000</td>\n",
       "    </tr>\n",
       "  </tbody>\n",
       "</table>\n",
       "</div>"
      ],
      "text/plain": [
       "        desempenho        horas\n",
       "count  2000.000000  2000.000000\n",
       "mean     60.859600    18.607500\n",
       "std      21.734986     6.075599\n",
       "min      10.500000     4.000000\n",
       "25%      44.000000    14.000000\n",
       "50%      60.900002    19.000000\n",
       "75%      78.225004    23.000000\n",
       "max     108.000000    31.000000"
      ]
     },
     "execution_count": 65,
     "metadata": {},
     "output_type": "execute_result"
    }
   ],
   "source": [
    "# Lembrando de adicionar uma posição a mais no final\n",
    "# Gerando estatísticas descritivas\n",
    "# Tabela de estatísticas descritivas para variáveis quantitativas\n",
    "descritivas = desempenho_aluno_escola[['desempenho', 'horas']]\n",
    "descritivas.describe()"
   ]
  },
  {
   "cell_type": "code",
   "execution_count": 66,
   "id": "eb31fdbe",
   "metadata": {},
   "outputs": [
    {
     "data": {
      "application/vnd.microsoft.datawrangler.viewer.v0+json": {
       "columns": [
        {
         "name": "priv",
         "rawType": "object",
         "type": "string"
        },
        {
         "name": "count",
         "rawType": "int64",
         "type": "integer"
        }
       ],
       "ref": "24fcf6bf-0ebe-49f6-9ecb-af3dea8cd10f",
       "rows": [
        [
         "pública",
         "1102"
        ],
        [
         "privada",
         "898"
        ]
       ],
       "shape": {
        "columns": 1,
        "rows": 2
       }
      },
      "text/plain": [
       "priv\n",
       "pública    1102\n",
       "privada     898\n",
       "Name: count, dtype: int64"
      ]
     },
     "execution_count": 66,
     "metadata": {},
     "output_type": "execute_result"
    }
   ],
   "source": [
    "# Tabela de frequências para variável qualitativa\n",
    "desempenho_aluno_escola['priv'].value_counts()\n",
    "\n",
    "# Filtrando observações por meio de operadores\n",
    "# Também é possível filtrar observações por meio dos operadores:\n",
    "# Alguns operadores úteis para realizar filtros:\n",
    "\n",
    "# \"== igual\"\n",
    "# \"> maior\"\n",
    "# \">= maior ou igual\"\n",
    "# \"< menor\"\n",
    "# \"<= menor ou igual\"\n",
    "# \"!= diferente\"\n",
    "# \"& indica e\"\n",
    "# \"| indica ou\""
   ]
  },
  {
   "cell_type": "code",
   "execution_count": 67,
   "id": "1554b165",
   "metadata": {},
   "outputs": [
    {
     "name": "stdout",
     "output_type": "stream",
     "text": [
      "     escola  estudante  desempenho  horas     priv\n",
      "1         A          2   74.899994   23.0  pública\n",
      "2         A          3   86.699997   25.0  pública\n",
      "3         A          4   53.699997   14.0  pública\n",
      "4         A          5   79.699997   24.0  pública\n",
      "9         A         10   90.100006   28.0  pública\n",
      "...     ...        ...         ...    ...      ...\n",
      "1989     DE       1990   84.000000   27.0  pública\n",
      "1991     DE       1992   65.900002   19.0  pública\n",
      "1992     DE       1993   65.800003   19.0  pública\n",
      "1993     DE       1994   53.299999   17.0  pública\n",
      "1999     DF       2000   56.599998   17.0  pública\n",
      "\n",
      "[1332 rows x 5 columns]\n"
     ]
    }
   ],
   "source": [
    "print(desempenho_aluno_escola[desempenho_aluno_escola['desempenho'] > 50])"
   ]
  },
  {
   "cell_type": "code",
   "execution_count": 68,
   "id": "32f82186",
   "metadata": {},
   "outputs": [
    {
     "name": "stdout",
     "output_type": "stream",
     "text": [
      "     escola  estudante  desempenho  horas     priv\n",
      "0         A          1   35.400002   11.0  pública\n",
      "1         A          2   74.899994   23.0  pública\n",
      "2         A          3   86.699997   25.0  pública\n",
      "3         A          4   53.699997   14.0  pública\n",
      "4         A          5   79.699997   24.0  pública\n",
      "...     ...        ...         ...    ...      ...\n",
      "1995     DF       1996   38.500000   15.0  pública\n",
      "1996     DF       1997   37.600002   13.0  pública\n",
      "1997     DF       1998   41.000000   13.0  pública\n",
      "1998     DF       1999   38.200001   12.0  pública\n",
      "1999     DF       2000   56.599998   17.0  pública\n",
      "\n",
      "[1102 rows x 5 columns]\n",
      "     escola  estudante  desempenho  horas     priv\n",
      "6         A          7   10.500000    5.0  pública\n",
      "85        C         86   18.500000    7.0  pública\n",
      "104       C        105   15.400000    5.0  pública\n",
      "219       G        220   12.400000    5.0  pública\n",
      "220       G        221   18.800001    6.0  pública\n",
      "480      AC        481   14.400001    8.0  pública\n",
      "500      AC        501   12.300000    5.0  pública\n",
      "503      AC        504   13.599998    6.0  pública\n",
      "508      AC        509   19.300001    9.0  pública\n",
      "535      AD        536   17.000000    8.0  pública\n",
      "540      AD        541   10.500000    5.0  pública\n",
      "552      AD        553   15.100000    6.0  pública\n",
      "1049     BE       1050   19.900000    8.0  pública\n",
      "1051     BE       1052   19.799999    6.0  pública\n",
      "1168     BG       1169   11.300001    4.0  pública\n",
      "1274     BI       1275   16.199999    5.0  pública\n",
      "1279     BI       1280   13.199999    6.0  pública\n",
      "1289     BI       1290   19.799999    6.0  pública\n",
      "1316     CJ       1317   13.099999    6.0  pública\n",
      "1322     CJ       1323   16.600000    5.0  pública\n",
      "1357     CA       1358   13.599998    8.0  pública\n",
      "1358     CA       1359   16.800001    8.0  pública\n",
      "1522     CE       1523   10.500000    6.0  pública\n",
      "1615     CG       1616   16.900002    9.0  pública\n",
      "1619     CG       1620   19.300001    7.0  pública\n",
      "1712     CI       1713   17.000000    6.0  pública\n",
      "1726     CI       1727   15.699999    7.0  pública\n",
      "1731     CI       1732   15.699999    6.0  pública\n",
      "1756     DJ       1757   15.400000    6.0  pública\n",
      "1768     DJ       1769   18.599998    8.0  pública\n",
      "1871     DC       1872   19.600000    9.0  pública\n",
      "1928     DD       1929   12.600000    4.0  pública\n",
      "1949     DD       1950   15.000000    6.0  pública\n",
      "     escola  estudante  desempenho  horas     priv\n",
      "47        B         48   41.000000   13.0  pública\n",
      "48        B         49   57.600002   17.0  pública\n",
      "49        B         50   73.400002   20.0  pública\n",
      "50        B         51   84.099998   29.0  pública\n",
      "51        B         52   49.099998   18.0  pública\n",
      "...     ...        ...         ...    ...      ...\n",
      "1995     DF       1996   38.500000   15.0  pública\n",
      "1996     DF       1997   37.600002   13.0  pública\n",
      "1997     DF       1998   41.000000   13.0  pública\n",
      "1998     DF       1999   38.200001   12.0  pública\n",
      "1999     DF       2000   56.599998   17.0  pública\n",
      "\n",
      "[1953 rows x 5 columns]\n",
      "    escola  estudante  desempenho  horas     priv\n",
      "72       C         73   54.799999   20.0  pública\n",
      "73       C         74   30.799999    7.0  pública\n",
      "74       C         75   32.800003   11.0  pública\n",
      "75       C         76   94.799995   27.0  pública\n",
      "76       C         77   42.199997   16.0  pública\n",
      "..     ...        ...         ...    ...      ...\n",
      "276      H        277   84.400002   23.0  privada\n",
      "277      H        278   95.500000   27.0  privada\n",
      "278      H        279   78.100006   22.0  privada\n",
      "279      H        280   91.000000   23.0  privada\n",
      "280      H        281   90.099998   22.0  privada\n",
      "\n",
      "[83 rows x 5 columns]\n"
     ]
    }
   ],
   "source": [
    "# Poderia salvar como um objeto:\n",
    "novos_dados_3 = desempenho_aluno_escola.loc[desempenho_aluno_escola['desempenho'] > 50]\n",
    "print(desempenho_aluno_escola[desempenho_aluno_escola['priv'] == 'pública'])\n",
    "\n",
    "print(desempenho_aluno_escola[(desempenho_aluno_escola['priv'] == 'pública') & (desempenho_aluno_escola['desempenho'] <= 20)])\n",
    "\n",
    "print(desempenho_aluno_escola[desempenho_aluno_escola['escola'] != 'A'])\n",
    "\n",
    "print(desempenho_aluno_escola[(desempenho_aluno_escola['escola'] == 'C') | (desempenho_aluno_escola['escola'] == 'H')])"
   ]
  },
  {
   "cell_type": "code",
   "execution_count": 69,
   "id": "970d1f2f",
   "metadata": {},
   "outputs": [],
   "source": [
    "# Poderia salvar como um objeto:\n",
    "novos_dados_4 = (desempenho_aluno_escola[(desempenho_aluno_escola['escola'] == 'C') | (desempenho_aluno_escola['escola'] == 'H')])"
   ]
  },
  {
   "cell_type": "code",
   "execution_count": 70,
   "id": "6fbb39c5",
   "metadata": {},
   "outputs": [],
   "source": [
    "#%% Agrupamento dos dados por algum critério\n",
    "parte_dados_2 = desempenho_aluno_escola[[\"escola\", \"desempenho\", \"horas\"]]"
   ]
  },
  {
   "cell_type": "code",
   "execution_count": 71,
   "id": "a7d756bd",
   "metadata": {},
   "outputs": [
    {
     "name": "stdout",
     "output_type": "stream",
     "text": [
      "        desempenho      horas\n",
      "escola                       \n",
      "A        50.389362  16.127660\n",
      "AA       66.568421  16.701754\n",
      "AB       64.722581  19.774194\n",
      "AC       44.241509  14.113208\n",
      "AD       42.733333  13.703704\n",
      "AE       69.164151  21.358491\n",
      "AF       65.860715  20.142857\n",
      "AG       74.817242  22.965517\n",
      "AH       60.341026  18.846154\n",
      "AI       58.836170  17.957447\n",
      "AJ       70.954545  22.424242\n",
      "B        62.795999  19.160000\n",
      "BA       45.142623  15.442623\n",
      "BB       50.404478  17.402985\n",
      "BC       71.097872  21.765957\n",
      "BD       58.542105  19.684211\n",
      "BE       52.571155  16.250000\n",
      "BF       67.314035  22.140351\n",
      "BG       62.131579  19.184211\n",
      "BH       71.185965  20.403509\n",
      "BI       41.764286  13.285714\n",
      "BJ       66.770000  20.566667\n",
      "C        43.943750  14.000000\n",
      "CA       57.900000  18.192308\n",
      "CB       60.860001  18.755556\n",
      "CC       75.659574  21.595745\n",
      "CD       54.891999  16.680000\n",
      "CE       57.336364  17.509091\n",
      "CF       62.983332  19.571429\n",
      "CG       45.330233  14.581395\n",
      "CH       89.300000  23.125000\n",
      "CI       51.073913  15.695652\n",
      "CJ       55.773685  17.000000\n",
      "D        75.025000  21.650000\n",
      "DA       59.889830  19.745763\n",
      "DB       77.061905  22.190476\n",
      "DC       49.325641  15.410256\n",
      "DD       61.125000  18.788462\n",
      "DE       63.065790  19.947368\n",
      "DF       42.650000  14.166667\n",
      "DJ       61.026415  18.283019\n",
      "E        56.233333  18.604167\n",
      "F        56.936667  16.866667\n",
      "G        51.732143  15.535714\n",
      "H        92.931428  24.628571\n",
      "I        84.927274  23.250000\n"
     ]
    }
   ],
   "source": [
    "# Agrupando os dados e resumindo utilizando o método groupby\n",
    "agrupamento_escola = parte_dados_2.groupby(by=['escola']).mean()\n",
    "print(agrupamento_escola)"
   ]
  },
  {
   "cell_type": "code",
   "execution_count": null,
   "id": "78ec9abd",
   "metadata": {},
   "outputs": [
    {
     "name": "stdout",
     "output_type": "stream",
     "text": [
      "0      A\n",
      "1     AA\n",
      "2     AB\n",
      "3     AC\n",
      "4     AD\n",
      "5     AE\n",
      "6     AF\n",
      "7     AG\n",
      "8     AH\n",
      "9     AI\n",
      "10    AJ\n",
      "11     B\n",
      "12    BA\n",
      "13    BB\n",
      "14    BC\n",
      "15    BD\n",
      "16    BE\n",
      "17    BF\n",
      "18    BG\n",
      "19    BH\n",
      "20    BI\n",
      "21    BJ\n",
      "22     C\n",
      "23    CA\n",
      "24    CB\n",
      "25    CC\n",
      "26    CD\n",
      "27    CE\n",
      "28    CF\n",
      "29    CG\n",
      "30    CH\n",
      "31    CI\n",
      "32    CJ\n",
      "33     D\n",
      "34    DA\n",
      "35    DB\n",
      "36    DC\n",
      "37    DD\n",
      "38    DE\n",
      "39    DF\n",
      "40    DJ\n",
      "41     E\n",
      "42     F\n",
      "43     G\n",
      "44     H\n",
      "45     I\n",
      "Name: escola, dtype: object\n"
     ]
    }
   ],
   "source": [
    "# O agrupamento_escola está agrupado e não pode mais ser manipulado como antes\n",
    "# O index agora são as escolas - que foram o critério de agrupamento\n",
    "agrupamento_escola = agrupamento_escola.reset_index()\n",
    "print(agrupamento_escola['escola']) "
   ]
  },
  {
   "cell_type": "code",
   "execution_count": 73,
   "id": "d1764efb",
   "metadata": {},
   "outputs": [
    {
     "name": "stdout",
     "output_type": "stream",
     "text": [
      "     escola  estudante  desempenho  horas     priv\n",
      "320       I        321  108.000000   30.0  privada\n",
      "1644     CH       1645  108.000000   31.0  privada\n",
      "264       H        265  108.000000   29.0  privada\n",
      "267       H        268  107.500000   29.0  privada\n",
      "273       H        274  107.500000   29.0  privada\n",
      "...     ...        ...         ...    ...      ...\n",
      "1813     DA       1814   11.400002    4.0  privada\n",
      "1168     BG       1169   11.300001    4.0  pública\n",
      "1522     CE       1523   10.500000    6.0  pública\n",
      "540      AD        541   10.500000    5.0  pública\n",
      "6         A          7   10.500000    5.0  pública\n",
      "\n",
      "[2000 rows x 5 columns]\n"
     ]
    }
   ],
   "source": [
    "# Organizando o dataset com base em critérios\n",
    "# É possível ordenar os valores baseados em uma ou várias colunas\n",
    "print(desempenho_aluno_escola.sort_values(by=['desempenho'], ascending=False))"
   ]
  },
  {
   "cell_type": "code",
   "execution_count": 74,
   "id": "d60ea745",
   "metadata": {},
   "outputs": [
    {
     "name": "stdout",
     "output_type": "stream",
     "text": [
      "     escola  estudante  desempenho  horas     priv\n",
      "1644     CH       1645  108.000000   31.0  privada\n",
      "320       I        321  108.000000   30.0  privada\n",
      "264       H        265  108.000000   29.0  privada\n",
      "267       H        268  107.500000   29.0  privada\n",
      "273       H        274  107.500000   29.0  privada\n",
      "...     ...        ...         ...    ...      ...\n",
      "1813     DA       1814   11.400002    4.0  privada\n",
      "1168     BG       1169   11.300001    4.0  pública\n",
      "1522     CE       1523   10.500000    6.0  pública\n",
      "6         A          7   10.500000    5.0  pública\n",
      "540      AD        541   10.500000    5.0  pública\n",
      "\n",
      "[2000 rows x 5 columns]\n"
     ]
    }
   ],
   "source": [
    "# Utilizando várias colunas na ordenação:\n",
    "print(desempenho_aluno_escola.sort_values(by=['desempenho', 'horas'], ascending=False))"
   ]
  },
  {
   "cell_type": "code",
   "execution_count": 75,
   "id": "d1486be4",
   "metadata": {},
   "outputs": [],
   "source": [
    "# Aplicação prática\n",
    "# Como exemplo, vamos trabalhar no banco de dados do PIB dos países\n",
    "# Podemos importar novamente o banco de dados\n",
    "pib_paises = pd.read_csv(\"(2) pib_paises.csv\", sep=\",\", decimal=\".\")"
   ]
  },
  {
   "cell_type": "code",
   "execution_count": 76,
   "id": "31598018",
   "metadata": {},
   "outputs": [
    {
     "name": "stdout",
     "output_type": "stream",
     "text": [
      "     Time Time Code           Country Name Country Code  \\\n",
      "0    2020    YR2020            Afghanistan          AFG   \n",
      "1    2020    YR2020                Albania          ALB   \n",
      "2    2020    YR2020                Algeria          DZA   \n",
      "3    2020    YR2020         American Samoa          ASM   \n",
      "4    2020    YR2020                Andorra          AND   \n",
      "..    ...       ...                    ...          ...   \n",
      "212  2020    YR2020  Virgin Islands (U.S.)          VIR   \n",
      "213  2020    YR2020     West Bank and Gaza          PSE   \n",
      "214  2020    YR2020            Yemen, Rep.          YEM   \n",
      "215  2020    YR2020                 Zambia          ZMB   \n",
      "216  2020    YR2020               Zimbabwe          ZWE   \n",
      "\n",
      "    GDP per capita growth (annual %) [NY.GDP.PCAP.KD.ZG]  \\\n",
      "0                                    -4.57503186436271     \n",
      "1                                    -3.39870846788662     \n",
      "2                                    -6.82696362319118     \n",
      "3                                     4.13808366254634     \n",
      "4                                    -12.0882996669955     \n",
      "..                                                 ...     \n",
      "212                                                 ..     \n",
      "213                                  -13.6319590509676     \n",
      "214                                                 ..     \n",
      "215                                  -5.55028325872323     \n",
      "216                                  -7.62038819104805     \n",
      "\n",
      "    GDP growth (annual %) [NY.GDP.MKTP.KD.ZG]  \n",
      "0                           -2.35110067344623  \n",
      "1                           -3.95539792669307  \n",
      "2                           -5.09999999999982  \n",
      "3                            3.92156862745099  \n",
      "4                           -11.9526932539653  \n",
      "..                                        ...  \n",
      "212                                        ..  \n",
      "213                         -11.4574515130457  \n",
      "214                                        ..  \n",
      "215                         -2.78505506545167  \n",
      "216                         -6.24874822378281  \n",
      "\n",
      "[217 rows x 6 columns]\n"
     ]
    }
   ],
   "source": [
    "# Inicialmente, vamos excluir as últimas linhas \n",
    "# Serão as linhas do index 217 até 270\n",
    "pib_paises.drop(pib_paises.index[217:271], inplace=True)\n",
    "print(pib_paises)"
   ]
  },
  {
   "cell_type": "code",
   "execution_count": 77,
   "id": "cab49678",
   "metadata": {},
   "outputs": [
    {
     "name": "stdout",
     "output_type": "stream",
     "text": [
      "     Time           Country Name  \\\n",
      "0    2020            Afghanistan   \n",
      "1    2020                Albania   \n",
      "2    2020                Algeria   \n",
      "3    2020         American Samoa   \n",
      "4    2020                Andorra   \n",
      "..    ...                    ...   \n",
      "212  2020  Virgin Islands (U.S.)   \n",
      "213  2020     West Bank and Gaza   \n",
      "214  2020            Yemen, Rep.   \n",
      "215  2020                 Zambia   \n",
      "216  2020               Zimbabwe   \n",
      "\n",
      "    GDP per capita growth (annual %) [NY.GDP.PCAP.KD.ZG]  \\\n",
      "0                                    -4.57503186436271     \n",
      "1                                    -3.39870846788662     \n",
      "2                                    -6.82696362319118     \n",
      "3                                     4.13808366254634     \n",
      "4                                    -12.0882996669955     \n",
      "..                                                 ...     \n",
      "212                                                 ..     \n",
      "213                                  -13.6319590509676     \n",
      "214                                                 ..     \n",
      "215                                  -5.55028325872323     \n",
      "216                                  -7.62038819104805     \n",
      "\n",
      "    GDP growth (annual %) [NY.GDP.MKTP.KD.ZG]  \n",
      "0                           -2.35110067344623  \n",
      "1                           -3.95539792669307  \n",
      "2                           -5.09999999999982  \n",
      "3                            3.92156862745099  \n",
      "4                           -11.9526932539653  \n",
      "..                                        ...  \n",
      "212                                        ..  \n",
      "213                         -11.4574515130457  \n",
      "214                                        ..  \n",
      "215                         -2.78505506545167  \n",
      "216                         -6.24874822378281  \n",
      "\n",
      "[217 rows x 4 columns]\n"
     ]
    }
   ],
   "source": [
    "# Excluir variáveis que não utilizaremos\n",
    "pib_paises.drop(pib_paises.columns[[1,3]], axis=1, inplace=True)\n",
    "print(pib_paises)"
   ]
  },
  {
   "cell_type": "code",
   "execution_count": 78,
   "id": "2caf58a7",
   "metadata": {},
   "outputs": [
    {
     "name": "stdout",
     "output_type": "stream",
     "text": [
      "      ano                 paises     var_pib_capita      var_pib_total\n",
      "0    2020            Afghanistan  -4.57503186436271  -2.35110067344623\n",
      "1    2020                Albania  -3.39870846788662  -3.95539792669307\n",
      "2    2020                Algeria  -6.82696362319118  -5.09999999999982\n",
      "3    2020         American Samoa   4.13808366254634   3.92156862745099\n",
      "4    2020                Andorra  -12.0882996669955  -11.9526932539653\n",
      "..    ...                    ...                ...                ...\n",
      "212  2020  Virgin Islands (U.S.)                 ..                 ..\n",
      "213  2020     West Bank and Gaza  -13.6319590509676  -11.4574515130457\n",
      "214  2020            Yemen, Rep.                 ..                 ..\n",
      "215  2020                 Zambia  -5.55028325872323  -2.78505506545167\n",
      "216  2020               Zimbabwe  -7.62038819104805  -6.24874822378281\n",
      "\n",
      "[217 rows x 4 columns]\n"
     ]
    }
   ],
   "source": [
    "# Alterar os nomes das variáveis\n",
    "nomes = [\"ano\", \"paises\", \"var_pib_capita\", \"var_pib_total\"]\n",
    "pib_paises.columns = nomes\n",
    "print(pib_paises)"
   ]
  },
  {
   "cell_type": "code",
   "execution_count": 79,
   "id": "82634a00",
   "metadata": {},
   "outputs": [
    {
     "name": "stdout",
     "output_type": "stream",
     "text": [
      "<class 'pandas.core.frame.DataFrame'>\n",
      "RangeIndex: 217 entries, 0 to 216\n",
      "Data columns (total 4 columns):\n",
      " #   Column          Non-Null Count  Dtype \n",
      "---  ------          --------------  ----- \n",
      " 0   ano             217 non-null    object\n",
      " 1   paises          217 non-null    object\n",
      " 2   var_pib_capita  217 non-null    object\n",
      " 3   var_pib_total   217 non-null    object\n",
      "dtypes: object(4)\n",
      "memory usage: 6.9+ KB\n",
      "None\n"
     ]
    }
   ],
   "source": [
    "# Formato das variáveis\n",
    "print(pib_paises.info())"
   ]
  },
  {
   "cell_type": "code",
   "execution_count": 80,
   "id": "7405e0a1",
   "metadata": {},
   "outputs": [
    {
     "name": "stdout",
     "output_type": "stream",
     "text": [
      "      ano                 paises     var_pib_capita      var_pib_total  \\\n",
      "0    2020            Afghanistan  -4.57503186436271  -2.35110067344623   \n",
      "1    2020                Albania  -3.39870846788662  -3.95539792669307   \n",
      "2    2020                Algeria  -6.82696362319118  -5.09999999999982   \n",
      "3    2020         American Samoa   4.13808366254634   3.92156862745099   \n",
      "4    2020                Andorra  -12.0882996669955  -11.9526932539653   \n",
      "..    ...                    ...                ...                ...   \n",
      "212  2020  Virgin Islands (U.S.)                 ..                 ..   \n",
      "213  2020     West Bank and Gaza  -13.6319590509676  -11.4574515130457   \n",
      "214  2020            Yemen, Rep.                 ..                 ..   \n",
      "215  2020                 Zambia  -5.55028325872323  -2.78505506545167   \n",
      "216  2020               Zimbabwe  -7.62038819104805  -6.24874822378281   \n",
      "\n",
      "     var_pib_capita_ajust  var_pib_total_ajust  \n",
      "0               -4.575032            -2.351101  \n",
      "1               -3.398708            -3.955398  \n",
      "2               -6.826964            -5.100000  \n",
      "3                4.138084             3.921569  \n",
      "4              -12.088300           -11.952693  \n",
      "..                    ...                  ...  \n",
      "212                   NaN                  NaN  \n",
      "213            -13.631959           -11.457452  \n",
      "214                   NaN                  NaN  \n",
      "215             -5.550283            -2.785055  \n",
      "216             -7.620388            -6.248748  \n",
      "\n",
      "[217 rows x 6 columns]\n"
     ]
    }
   ],
   "source": [
    "# Note que as variáveis que deveriam ser numéricas vieram como textos\n",
    "# Vamos criar novas variáveis contendo os valores\n",
    "# Ajustando variáveis\n",
    "# Neste caso, utilizaremos a função \"to_numeric\"\n",
    "# Um detalhe: note que os missings \"..\" serão substituídos por NaN\n",
    "pib_paises['var_pib_capita_ajust'] = pd.to_numeric(pib_paises['var_pib_capita'], errors='coerce')\n",
    "pib_paises['var_pib_total_ajust'] = pd.to_numeric(pib_paises['var_pib_total'], errors='coerce')\n",
    "print(pib_paises)"
   ]
  },
  {
   "cell_type": "code",
   "execution_count": 81,
   "id": "9717d111",
   "metadata": {},
   "outputs": [
    {
     "name": "stdout",
     "output_type": "stream",
     "text": [
      "      ano              paises     var_pib_capita      var_pib_total  \\\n",
      "0    2020         Afghanistan  -4.57503186436271  -2.35110067344623   \n",
      "1    2020             Albania  -3.39870846788662  -3.95539792669307   \n",
      "2    2020             Algeria  -6.82696362319118  -5.09999999999982   \n",
      "3    2020      American Samoa   4.13808366254634   3.92156862745099   \n",
      "4    2020             Andorra  -12.0882996669955  -11.9526932539653   \n",
      "..    ...                 ...                ...                ...   \n",
      "209  2020             Vanuatu  -9.01902421865748  -6.81399113238088   \n",
      "211  2020             Vietnam   1.97923084573928    2.9058355842084   \n",
      "213  2020  West Bank and Gaza  -13.6319590509676  -11.4574515130457   \n",
      "215  2020              Zambia  -5.55028325872323  -2.78505506545167   \n",
      "216  2020            Zimbabwe  -7.62038819104805  -6.24874822378281   \n",
      "\n",
      "     var_pib_capita_ajust  var_pib_total_ajust  \n",
      "0               -4.575032            -2.351101  \n",
      "1               -3.398708            -3.955398  \n",
      "2               -6.826964            -5.100000  \n",
      "3                4.138084             3.921569  \n",
      "4              -12.088300           -11.952693  \n",
      "..                    ...                  ...  \n",
      "209             -9.019024            -6.813991  \n",
      "211              1.979231             2.905836  \n",
      "213            -13.631959           -11.457452  \n",
      "215             -5.550283            -2.785055  \n",
      "216             -7.620388            -6.248748  \n",
      "\n",
      "[196 rows x 6 columns]\n"
     ]
    }
   ],
   "source": [
    "# Excluindo linhas com dados faltantes\n",
    "pib_paises = pib_paises.dropna()\n",
    "print(pib_paises)"
   ]
  },
  {
   "cell_type": "code",
   "execution_count": 82,
   "id": "60824d9d",
   "metadata": {},
   "outputs": [],
   "source": [
    "# Reorganizando a posição das variáveis\n",
    "reorganiza = desempenho_aluno_escola.reindex(['desempenho','estudante','horas','priv','escola'], axis=1)"
   ]
  },
  {
   "cell_type": "code",
   "execution_count": 83,
   "id": "42fd04df",
   "metadata": {},
   "outputs": [],
   "source": [
    "# Selecionando algumas variáveis pelo nome\n",
    "# Vamos armazenar somente as variáveis estudante (id), desempenho e horas\n",
    "parte_dados_1 = desempenho_aluno_escola[[\"estudante\", \"desempenho\", \"horas\"]]"
   ]
  },
  {
   "cell_type": "code",
   "execution_count": 84,
   "id": "031f4bcc",
   "metadata": {},
   "outputs": [],
   "source": [
    "# Excluindo algumas variáveis\n",
    "# As variáveis \"horas\" e \"priv\" poderiam ser excluídas\n",
    "novos_dados_1 = desempenho_aluno_escola.drop(columns=['horas', 'priv'])"
   ]
  },
  {
   "cell_type": "code",
   "execution_count": 85,
   "id": "3185416c",
   "metadata": {},
   "outputs": [],
   "source": [
    "# Excluindo algumas observações\n",
    "# Supondo que não vamos analisar os estudantes números 476 até 522\n",
    "# A contagem de linhas na biblioteca pandas sempre começa em 0, portanto:\n",
    "# Estudante 476 está na linha 475\n",
    "# Estudante 522 está na linha 521\n",
    "novos_dados_2 = desempenho_aluno_escola.drop(desempenho_aluno_escola.index[475:522])"
   ]
  },
  {
   "cell_type": "code",
   "execution_count": 86,
   "id": "149e0fdc",
   "metadata": {},
   "outputs": [
    {
     "data": {
      "application/vnd.microsoft.datawrangler.viewer.v0+json": {
       "columns": [
        {
         "name": "index",
         "rawType": "object",
         "type": "string"
        },
        {
         "name": "desempenho",
         "rawType": "float64",
         "type": "float"
        },
        {
         "name": "horas",
         "rawType": "float64",
         "type": "float"
        }
       ],
       "ref": "9655c057-a299-4ad3-a219-2df9b1768842",
       "rows": [
        [
         "count",
         "2000.0",
         "2000.0"
        ],
        [
         "mean",
         "60.85960002851486",
         "18.6075"
        ],
        [
         "std",
         "21.734986377771946",
         "6.0755987523947015"
        ],
        [
         "min",
         "10.5",
         "4.0"
        ],
        [
         "25%",
         "44.0",
         "14.0"
        ],
        [
         "50%",
         "60.9000015258789",
         "19.0"
        ],
        [
         "75%",
         "78.22500419616698",
         "23.0"
        ],
        [
         "max",
         "108.0",
         "31.0"
        ]
       ],
       "shape": {
        "columns": 2,
        "rows": 8
       }
      },
      "text/html": [
       "<div>\n",
       "<style scoped>\n",
       "    .dataframe tbody tr th:only-of-type {\n",
       "        vertical-align: middle;\n",
       "    }\n",
       "\n",
       "    .dataframe tbody tr th {\n",
       "        vertical-align: top;\n",
       "    }\n",
       "\n",
       "    .dataframe thead th {\n",
       "        text-align: right;\n",
       "    }\n",
       "</style>\n",
       "<table border=\"1\" class=\"dataframe\">\n",
       "  <thead>\n",
       "    <tr style=\"text-align: right;\">\n",
       "      <th></th>\n",
       "      <th>desempenho</th>\n",
       "      <th>horas</th>\n",
       "    </tr>\n",
       "  </thead>\n",
       "  <tbody>\n",
       "    <tr>\n",
       "      <th>count</th>\n",
       "      <td>2000.000000</td>\n",
       "      <td>2000.000000</td>\n",
       "    </tr>\n",
       "    <tr>\n",
       "      <th>mean</th>\n",
       "      <td>60.859600</td>\n",
       "      <td>18.607500</td>\n",
       "    </tr>\n",
       "    <tr>\n",
       "      <th>std</th>\n",
       "      <td>21.734986</td>\n",
       "      <td>6.075599</td>\n",
       "    </tr>\n",
       "    <tr>\n",
       "      <th>min</th>\n",
       "      <td>10.500000</td>\n",
       "      <td>4.000000</td>\n",
       "    </tr>\n",
       "    <tr>\n",
       "      <th>25%</th>\n",
       "      <td>44.000000</td>\n",
       "      <td>14.000000</td>\n",
       "    </tr>\n",
       "    <tr>\n",
       "      <th>50%</th>\n",
       "      <td>60.900002</td>\n",
       "      <td>19.000000</td>\n",
       "    </tr>\n",
       "    <tr>\n",
       "      <th>75%</th>\n",
       "      <td>78.225004</td>\n",
       "      <td>23.000000</td>\n",
       "    </tr>\n",
       "    <tr>\n",
       "      <th>max</th>\n",
       "      <td>108.000000</td>\n",
       "      <td>31.000000</td>\n",
       "    </tr>\n",
       "  </tbody>\n",
       "</table>\n",
       "</div>"
      ],
      "text/plain": [
       "        desempenho        horas\n",
       "count  2000.000000  2000.000000\n",
       "mean     60.859600    18.607500\n",
       "std      21.734986     6.075599\n",
       "min      10.500000     4.000000\n",
       "25%      44.000000    14.000000\n",
       "50%      60.900002    19.000000\n",
       "75%      78.225004    23.000000\n",
       "max     108.000000    31.000000"
      ]
     },
     "execution_count": 86,
     "metadata": {},
     "output_type": "execute_result"
    }
   ],
   "source": [
    "# Lembrando de adicionar uma posição a mais no final\n",
    "# Gerando estatísticas descritivas\n",
    "# Tabela de estatísticas descritivas para variáveis quantitativas\n",
    "descritivas = desempenho_aluno_escola[['desempenho', 'horas']]\n",
    "descritivas.describe()"
   ]
  },
  {
   "cell_type": "code",
   "execution_count": 87,
   "id": "e184601d",
   "metadata": {},
   "outputs": [
    {
     "name": "stdout",
     "output_type": "stream",
     "text": [
      "     escola  estudante  desempenho  horas     priv\n",
      "1         A          2   74.899994   23.0  pública\n",
      "2         A          3   86.699997   25.0  pública\n",
      "3         A          4   53.699997   14.0  pública\n",
      "4         A          5   79.699997   24.0  pública\n",
      "9         A         10   90.100006   28.0  pública\n",
      "...     ...        ...         ...    ...      ...\n",
      "1989     DE       1990   84.000000   27.0  pública\n",
      "1991     DE       1992   65.900002   19.0  pública\n",
      "1992     DE       1993   65.800003   19.0  pública\n",
      "1993     DE       1994   53.299999   17.0  pública\n",
      "1999     DF       2000   56.599998   17.0  pública\n",
      "\n",
      "[1332 rows x 5 columns]\n"
     ]
    }
   ],
   "source": [
    "# Tabela de frequências para variável qualitativa\n",
    "desempenho_aluno_escola['priv'].value_counts()\n",
    "\n",
    "# Filtrando observações por meio de operadores\n",
    "# Também é possível filtrar observações por meio dos operadores:\n",
    "# Alguns operadores úteis para realizar filtros:\n",
    "\n",
    "# \"== igual\"\n",
    "# \"> maior\"\n",
    "# \">= maior ou igual\"\n",
    "# \"< menor\"\n",
    "# \"<= menor ou igual\"\n",
    "# \"!= diferente\"\n",
    "# \"& indica e\"\n",
    "# \"| indica ou\"\n",
    "\n",
    "print(desempenho_aluno_escola[desempenho_aluno_escola['desempenho'] > 50])"
   ]
  },
  {
   "cell_type": "code",
   "execution_count": 88,
   "id": "40f9969d",
   "metadata": {},
   "outputs": [
    {
     "name": "stdout",
     "output_type": "stream",
     "text": [
      "     escola  estudante  desempenho  horas     priv\n",
      "0         A          1   35.400002   11.0  pública\n",
      "1         A          2   74.899994   23.0  pública\n",
      "2         A          3   86.699997   25.0  pública\n",
      "3         A          4   53.699997   14.0  pública\n",
      "4         A          5   79.699997   24.0  pública\n",
      "...     ...        ...         ...    ...      ...\n",
      "1995     DF       1996   38.500000   15.0  pública\n",
      "1996     DF       1997   37.600002   13.0  pública\n",
      "1997     DF       1998   41.000000   13.0  pública\n",
      "1998     DF       1999   38.200001   12.0  pública\n",
      "1999     DF       2000   56.599998   17.0  pública\n",
      "\n",
      "[1102 rows x 5 columns]\n",
      "     escola  estudante  desempenho  horas     priv\n",
      "6         A          7   10.500000    5.0  pública\n",
      "85        C         86   18.500000    7.0  pública\n",
      "104       C        105   15.400000    5.0  pública\n",
      "219       G        220   12.400000    5.0  pública\n",
      "220       G        221   18.800001    6.0  pública\n",
      "480      AC        481   14.400001    8.0  pública\n",
      "500      AC        501   12.300000    5.0  pública\n",
      "503      AC        504   13.599998    6.0  pública\n",
      "508      AC        509   19.300001    9.0  pública\n",
      "535      AD        536   17.000000    8.0  pública\n",
      "540      AD        541   10.500000    5.0  pública\n",
      "552      AD        553   15.100000    6.0  pública\n",
      "1049     BE       1050   19.900000    8.0  pública\n",
      "1051     BE       1052   19.799999    6.0  pública\n",
      "1168     BG       1169   11.300001    4.0  pública\n",
      "1274     BI       1275   16.199999    5.0  pública\n",
      "1279     BI       1280   13.199999    6.0  pública\n",
      "1289     BI       1290   19.799999    6.0  pública\n",
      "1316     CJ       1317   13.099999    6.0  pública\n",
      "1322     CJ       1323   16.600000    5.0  pública\n",
      "1357     CA       1358   13.599998    8.0  pública\n",
      "1358     CA       1359   16.800001    8.0  pública\n",
      "1522     CE       1523   10.500000    6.0  pública\n",
      "1615     CG       1616   16.900002    9.0  pública\n",
      "1619     CG       1620   19.300001    7.0  pública\n",
      "1712     CI       1713   17.000000    6.0  pública\n",
      "1726     CI       1727   15.699999    7.0  pública\n",
      "1731     CI       1732   15.699999    6.0  pública\n",
      "1756     DJ       1757   15.400000    6.0  pública\n",
      "1768     DJ       1769   18.599998    8.0  pública\n",
      "1871     DC       1872   19.600000    9.0  pública\n",
      "1928     DD       1929   12.600000    4.0  pública\n",
      "1949     DD       1950   15.000000    6.0  pública\n",
      "     escola  estudante  desempenho  horas     priv\n",
      "47        B         48   41.000000   13.0  pública\n",
      "48        B         49   57.600002   17.0  pública\n",
      "49        B         50   73.400002   20.0  pública\n",
      "50        B         51   84.099998   29.0  pública\n",
      "51        B         52   49.099998   18.0  pública\n",
      "...     ...        ...         ...    ...      ...\n",
      "1995     DF       1996   38.500000   15.0  pública\n",
      "1996     DF       1997   37.600002   13.0  pública\n",
      "1997     DF       1998   41.000000   13.0  pública\n",
      "1998     DF       1999   38.200001   12.0  pública\n",
      "1999     DF       2000   56.599998   17.0  pública\n",
      "\n",
      "[1953 rows x 5 columns]\n",
      "    escola  estudante  desempenho  horas     priv\n",
      "72       C         73   54.799999   20.0  pública\n",
      "73       C         74   30.799999    7.0  pública\n",
      "74       C         75   32.800003   11.0  pública\n",
      "75       C         76   94.799995   27.0  pública\n",
      "76       C         77   42.199997   16.0  pública\n",
      "..     ...        ...         ...    ...      ...\n",
      "276      H        277   84.400002   23.0  privada\n",
      "277      H        278   95.500000   27.0  privada\n",
      "278      H        279   78.100006   22.0  privada\n",
      "279      H        280   91.000000   23.0  privada\n",
      "280      H        281   90.099998   22.0  privada\n",
      "\n",
      "[83 rows x 5 columns]\n"
     ]
    }
   ],
   "source": [
    "# Poderia salvar como um objeto:\n",
    "novos_dados_3 = desempenho_aluno_escola.loc[desempenho_aluno_escola['desempenho'] > 50]\n",
    "print(desempenho_aluno_escola[desempenho_aluno_escola['priv'] == 'pública'])\n",
    "\n",
    "print(desempenho_aluno_escola[(desempenho_aluno_escola['priv'] == 'pública') & (desempenho_aluno_escola['desempenho'] <= 20)])\n",
    "\n",
    "print(desempenho_aluno_escola[desempenho_aluno_escola['escola'] != 'A'])\n",
    "\n",
    "print(desempenho_aluno_escola[(desempenho_aluno_escola['escola'] == 'C') | (desempenho_aluno_escola['escola'] == 'H')])"
   ]
  },
  {
   "cell_type": "code",
   "execution_count": 89,
   "id": "729e6d74",
   "metadata": {},
   "outputs": [],
   "source": [
    "# Poderia salvar como um objeto:\n",
    "novos_dados_4 = (desempenho_aluno_escola[(desempenho_aluno_escola['escola'] == 'C') | (desempenho_aluno_escola['escola'] == 'H')])"
   ]
  },
  {
   "cell_type": "code",
   "execution_count": 90,
   "id": "2d5f1360",
   "metadata": {},
   "outputs": [],
   "source": [
    "#%% Agrupamento dos dados por algum critério\n",
    "parte_dados_2 = desempenho_aluno_escola[[\"escola\", \"desempenho\", \"horas\"]]"
   ]
  },
  {
   "cell_type": "code",
   "execution_count": 91,
   "id": "c72650cf",
   "metadata": {},
   "outputs": [
    {
     "name": "stdout",
     "output_type": "stream",
     "text": [
      "        desempenho      horas\n",
      "escola                       \n",
      "A        50.389362  16.127660\n",
      "AA       66.568421  16.701754\n",
      "AB       64.722581  19.774194\n",
      "AC       44.241509  14.113208\n",
      "AD       42.733333  13.703704\n",
      "AE       69.164151  21.358491\n",
      "AF       65.860715  20.142857\n",
      "AG       74.817242  22.965517\n",
      "AH       60.341026  18.846154\n",
      "AI       58.836170  17.957447\n",
      "AJ       70.954545  22.424242\n",
      "B        62.795999  19.160000\n",
      "BA       45.142623  15.442623\n",
      "BB       50.404478  17.402985\n",
      "BC       71.097872  21.765957\n",
      "BD       58.542105  19.684211\n",
      "BE       52.571155  16.250000\n",
      "BF       67.314035  22.140351\n",
      "BG       62.131579  19.184211\n",
      "BH       71.185965  20.403509\n",
      "BI       41.764286  13.285714\n",
      "BJ       66.770000  20.566667\n",
      "C        43.943750  14.000000\n",
      "CA       57.900000  18.192308\n",
      "CB       60.860001  18.755556\n",
      "CC       75.659574  21.595745\n",
      "CD       54.891999  16.680000\n",
      "CE       57.336364  17.509091\n",
      "CF       62.983332  19.571429\n",
      "CG       45.330233  14.581395\n",
      "CH       89.300000  23.125000\n",
      "CI       51.073913  15.695652\n",
      "CJ       55.773685  17.000000\n",
      "D        75.025000  21.650000\n",
      "DA       59.889830  19.745763\n",
      "DB       77.061905  22.190476\n",
      "DC       49.325641  15.410256\n",
      "DD       61.125000  18.788462\n",
      "DE       63.065790  19.947368\n",
      "DF       42.650000  14.166667\n",
      "DJ       61.026415  18.283019\n",
      "E        56.233333  18.604167\n",
      "F        56.936667  16.866667\n",
      "G        51.732143  15.535714\n",
      "H        92.931428  24.628571\n",
      "I        84.927274  23.250000\n"
     ]
    }
   ],
   "source": [
    "# Agrupando os dados e resumindo utilizando o método groupby\n",
    "agrupamento_escola = parte_dados_2.groupby(by=['escola']).mean()\n",
    "print(agrupamento_escola)"
   ]
  },
  {
   "cell_type": "code",
   "execution_count": 92,
   "id": "8eba2f2e",
   "metadata": {},
   "outputs": [
    {
     "name": "stdout",
     "output_type": "stream",
     "text": [
      "0      A\n",
      "1     AA\n",
      "2     AB\n",
      "3     AC\n",
      "4     AD\n",
      "5     AE\n",
      "6     AF\n",
      "7     AG\n",
      "8     AH\n",
      "9     AI\n",
      "10    AJ\n",
      "11     B\n",
      "12    BA\n",
      "13    BB\n",
      "14    BC\n",
      "15    BD\n",
      "16    BE\n",
      "17    BF\n",
      "18    BG\n",
      "19    BH\n",
      "20    BI\n",
      "21    BJ\n",
      "22     C\n",
      "23    CA\n",
      "24    CB\n",
      "25    CC\n",
      "26    CD\n",
      "27    CE\n",
      "28    CF\n",
      "29    CG\n",
      "30    CH\n",
      "31    CI\n",
      "32    CJ\n",
      "33     D\n",
      "34    DA\n",
      "35    DB\n",
      "36    DC\n",
      "37    DD\n",
      "38    DE\n",
      "39    DF\n",
      "40    DJ\n",
      "41     E\n",
      "42     F\n",
      "43     G\n",
      "44     H\n",
      "45     I\n",
      "Name: escola, dtype: object\n"
     ]
    }
   ],
   "source": [
    "# O agrupamento_escola está agrupado e não pode mais ser manipulado como antes\n",
    "# O index agora são as escolas - que foram o critério de agrupamento\n",
    "agrupamento_escola = agrupamento_escola.reset_index()\n",
    "print(agrupamento_escola['escola'])"
   ]
  },
  {
   "cell_type": "code",
   "execution_count": 93,
   "id": "e9fc8af9",
   "metadata": {},
   "outputs": [
    {
     "name": "stdout",
     "output_type": "stream",
     "text": [
      "     escola  estudante  desempenho  horas     priv\n",
      "320       I        321  108.000000   30.0  privada\n",
      "1644     CH       1645  108.000000   31.0  privada\n",
      "264       H        265  108.000000   29.0  privada\n",
      "267       H        268  107.500000   29.0  privada\n",
      "273       H        274  107.500000   29.0  privada\n",
      "...     ...        ...         ...    ...      ...\n",
      "1813     DA       1814   11.400002    4.0  privada\n",
      "1168     BG       1169   11.300001    4.0  pública\n",
      "1522     CE       1523   10.500000    6.0  pública\n",
      "540      AD        541   10.500000    5.0  pública\n",
      "6         A          7   10.500000    5.0  pública\n",
      "\n",
      "[2000 rows x 5 columns]\n"
     ]
    }
   ],
   "source": [
    "# Organizando o dataset com base em critérios\n",
    "# É possível ordenar os valores baseados em uma ou várias colunas\n",
    "print(desempenho_aluno_escola.sort_values(by=['desempenho'], ascending=False))"
   ]
  },
  {
   "cell_type": "code",
   "execution_count": 94,
   "id": "c70f0c5c",
   "metadata": {},
   "outputs": [
    {
     "name": "stdout",
     "output_type": "stream",
     "text": [
      "     escola  estudante  desempenho  horas     priv\n",
      "1644     CH       1645  108.000000   31.0  privada\n",
      "320       I        321  108.000000   30.0  privada\n",
      "264       H        265  108.000000   29.0  privada\n",
      "267       H        268  107.500000   29.0  privada\n",
      "273       H        274  107.500000   29.0  privada\n",
      "...     ...        ...         ...    ...      ...\n",
      "1813     DA       1814   11.400002    4.0  privada\n",
      "1168     BG       1169   11.300001    4.0  pública\n",
      "1522     CE       1523   10.500000    6.0  pública\n",
      "6         A          7   10.500000    5.0  pública\n",
      "540      AD        541   10.500000    5.0  pública\n",
      "\n",
      "[2000 rows x 5 columns]\n"
     ]
    }
   ],
   "source": [
    "# Utilizando várias colunas na ordenação:\n",
    "print(desempenho_aluno_escola.sort_values(by=['desempenho', 'horas'], ascending=False))"
   ]
  },
  {
   "cell_type": "code",
   "execution_count": 95,
   "id": "63bbc287",
   "metadata": {},
   "outputs": [],
   "source": [
    "# Aplicação prática\n",
    "# Como exemplo, vamos trabalhar no banco de dados do PIB dos países\n",
    "# Podemos importar novamente o banco de dados\n",
    "pib_paises = pd.read_csv(\"(2) pib_paises.csv\", sep=\",\", decimal=\".\")"
   ]
  },
  {
   "cell_type": "code",
   "execution_count": 96,
   "id": "9afaf9e9",
   "metadata": {},
   "outputs": [
    {
     "name": "stdout",
     "output_type": "stream",
     "text": [
      "     Time Time Code           Country Name Country Code  \\\n",
      "0    2020    YR2020            Afghanistan          AFG   \n",
      "1    2020    YR2020                Albania          ALB   \n",
      "2    2020    YR2020                Algeria          DZA   \n",
      "3    2020    YR2020         American Samoa          ASM   \n",
      "4    2020    YR2020                Andorra          AND   \n",
      "..    ...       ...                    ...          ...   \n",
      "212  2020    YR2020  Virgin Islands (U.S.)          VIR   \n",
      "213  2020    YR2020     West Bank and Gaza          PSE   \n",
      "214  2020    YR2020            Yemen, Rep.          YEM   \n",
      "215  2020    YR2020                 Zambia          ZMB   \n",
      "216  2020    YR2020               Zimbabwe          ZWE   \n",
      "\n",
      "    GDP per capita growth (annual %) [NY.GDP.PCAP.KD.ZG]  \\\n",
      "0                                    -4.57503186436271     \n",
      "1                                    -3.39870846788662     \n",
      "2                                    -6.82696362319118     \n",
      "3                                     4.13808366254634     \n",
      "4                                    -12.0882996669955     \n",
      "..                                                 ...     \n",
      "212                                                 ..     \n",
      "213                                  -13.6319590509676     \n",
      "214                                                 ..     \n",
      "215                                  -5.55028325872323     \n",
      "216                                  -7.62038819104805     \n",
      "\n",
      "    GDP growth (annual %) [NY.GDP.MKTP.KD.ZG]  \n",
      "0                           -2.35110067344623  \n",
      "1                           -3.95539792669307  \n",
      "2                           -5.09999999999982  \n",
      "3                            3.92156862745099  \n",
      "4                           -11.9526932539653  \n",
      "..                                        ...  \n",
      "212                                        ..  \n",
      "213                         -11.4574515130457  \n",
      "214                                        ..  \n",
      "215                         -2.78505506545167  \n",
      "216                         -6.24874822378281  \n",
      "\n",
      "[217 rows x 6 columns]\n"
     ]
    }
   ],
   "source": [
    "# Inicialmente, vamos excluir as últimas linhas \n",
    "# Serão as linhas do index 217 até 270\n",
    "pib_paises.drop(pib_paises.index[217:271], inplace=True)\n",
    "print(pib_paises)"
   ]
  },
  {
   "cell_type": "code",
   "execution_count": 97,
   "id": "8801b4b1",
   "metadata": {},
   "outputs": [
    {
     "name": "stdout",
     "output_type": "stream",
     "text": [
      "     Time           Country Name  \\\n",
      "0    2020            Afghanistan   \n",
      "1    2020                Albania   \n",
      "2    2020                Algeria   \n",
      "3    2020         American Samoa   \n",
      "4    2020                Andorra   \n",
      "..    ...                    ...   \n",
      "212  2020  Virgin Islands (U.S.)   \n",
      "213  2020     West Bank and Gaza   \n",
      "214  2020            Yemen, Rep.   \n",
      "215  2020                 Zambia   \n",
      "216  2020               Zimbabwe   \n",
      "\n",
      "    GDP per capita growth (annual %) [NY.GDP.PCAP.KD.ZG]  \\\n",
      "0                                    -4.57503186436271     \n",
      "1                                    -3.39870846788662     \n",
      "2                                    -6.82696362319118     \n",
      "3                                     4.13808366254634     \n",
      "4                                    -12.0882996669955     \n",
      "..                                                 ...     \n",
      "212                                                 ..     \n",
      "213                                  -13.6319590509676     \n",
      "214                                                 ..     \n",
      "215                                  -5.55028325872323     \n",
      "216                                  -7.62038819104805     \n",
      "\n",
      "    GDP growth (annual %) [NY.GDP.MKTP.KD.ZG]  \n",
      "0                           -2.35110067344623  \n",
      "1                           -3.95539792669307  \n",
      "2                           -5.09999999999982  \n",
      "3                            3.92156862745099  \n",
      "4                           -11.9526932539653  \n",
      "..                                        ...  \n",
      "212                                        ..  \n",
      "213                         -11.4574515130457  \n",
      "214                                        ..  \n",
      "215                         -2.78505506545167  \n",
      "216                         -6.24874822378281  \n",
      "\n",
      "[217 rows x 4 columns]\n"
     ]
    }
   ],
   "source": [
    "# Excluir variáveis que não utilizaremos\n",
    "pib_paises.drop(pib_paises.columns[[1,3]], axis=1, inplace=True)\n",
    "print(pib_paises)"
   ]
  },
  {
   "cell_type": "code",
   "execution_count": 98,
   "id": "b80f2d84",
   "metadata": {},
   "outputs": [
    {
     "name": "stdout",
     "output_type": "stream",
     "text": [
      "      ano                 paises     var_pib_capita      var_pib_total\n",
      "0    2020            Afghanistan  -4.57503186436271  -2.35110067344623\n",
      "1    2020                Albania  -3.39870846788662  -3.95539792669307\n",
      "2    2020                Algeria  -6.82696362319118  -5.09999999999982\n",
      "3    2020         American Samoa   4.13808366254634   3.92156862745099\n",
      "4    2020                Andorra  -12.0882996669955  -11.9526932539653\n",
      "..    ...                    ...                ...                ...\n",
      "212  2020  Virgin Islands (U.S.)                 ..                 ..\n",
      "213  2020     West Bank and Gaza  -13.6319590509676  -11.4574515130457\n",
      "214  2020            Yemen, Rep.                 ..                 ..\n",
      "215  2020                 Zambia  -5.55028325872323  -2.78505506545167\n",
      "216  2020               Zimbabwe  -7.62038819104805  -6.24874822378281\n",
      "\n",
      "[217 rows x 4 columns]\n"
     ]
    }
   ],
   "source": [
    "# Alterar os nomes das variáveis\n",
    "nomes = [\"ano\", \"paises\", \"var_pib_capita\", \"var_pib_total\"]\n",
    "pib_paises.columns = nomes\n",
    "\n",
    "print(pib_paises)"
   ]
  },
  {
   "cell_type": "code",
   "execution_count": 99,
   "id": "38e856eb",
   "metadata": {},
   "outputs": [
    {
     "name": "stdout",
     "output_type": "stream",
     "text": [
      "<class 'pandas.core.frame.DataFrame'>\n",
      "RangeIndex: 217 entries, 0 to 216\n",
      "Data columns (total 4 columns):\n",
      " #   Column          Non-Null Count  Dtype \n",
      "---  ------          --------------  ----- \n",
      " 0   ano             217 non-null    object\n",
      " 1   paises          217 non-null    object\n",
      " 2   var_pib_capita  217 non-null    object\n",
      " 3   var_pib_total   217 non-null    object\n",
      "dtypes: object(4)\n",
      "memory usage: 6.9+ KB\n",
      "None\n"
     ]
    }
   ],
   "source": [
    "# Formato das variáveis\n",
    "print(pib_paises.info())"
   ]
  },
  {
   "cell_type": "code",
   "execution_count": 100,
   "id": "e3f70b7e",
   "metadata": {},
   "outputs": [
    {
     "name": "stdout",
     "output_type": "stream",
     "text": [
      "      ano                 paises     var_pib_capita      var_pib_total  \\\n",
      "0    2020            Afghanistan  -4.57503186436271  -2.35110067344623   \n",
      "1    2020                Albania  -3.39870846788662  -3.95539792669307   \n",
      "2    2020                Algeria  -6.82696362319118  -5.09999999999982   \n",
      "3    2020         American Samoa   4.13808366254634   3.92156862745099   \n",
      "4    2020                Andorra  -12.0882996669955  -11.9526932539653   \n",
      "..    ...                    ...                ...                ...   \n",
      "212  2020  Virgin Islands (U.S.)                 ..                 ..   \n",
      "213  2020     West Bank and Gaza  -13.6319590509676  -11.4574515130457   \n",
      "214  2020            Yemen, Rep.                 ..                 ..   \n",
      "215  2020                 Zambia  -5.55028325872323  -2.78505506545167   \n",
      "216  2020               Zimbabwe  -7.62038819104805  -6.24874822378281   \n",
      "\n",
      "     var_pib_capita_ajust  var_pib_total_ajust  \n",
      "0               -4.575032            -2.351101  \n",
      "1               -3.398708            -3.955398  \n",
      "2               -6.826964            -5.100000  \n",
      "3                4.138084             3.921569  \n",
      "4              -12.088300           -11.952693  \n",
      "..                    ...                  ...  \n",
      "212                   NaN                  NaN  \n",
      "213            -13.631959           -11.457452  \n",
      "214                   NaN                  NaN  \n",
      "215             -5.550283            -2.785055  \n",
      "216             -7.620388            -6.248748  \n",
      "\n",
      "[217 rows x 6 columns]\n"
     ]
    }
   ],
   "source": [
    "# Note que as variáveis que deveriam ser numéricas vieram como textos\n",
    "# Vamos criar novas variáveis contendo os valores\n",
    "\n",
    "# Ajustando variáveis\n",
    "\n",
    "# Neste caso, utilizaremos a função \"to_numeric\"\n",
    "# Um detalhe: note que os missings \"..\" serão substituídos por NaN\n",
    "\n",
    "pib_paises['var_pib_capita_ajust'] = pd.to_numeric(pib_paises['var_pib_capita'], errors='coerce')\n",
    "pib_paises['var_pib_total_ajust'] = pd.to_numeric(pib_paises['var_pib_total'], errors='coerce')\n",
    "print(pib_paises)"
   ]
  },
  {
   "cell_type": "code",
   "execution_count": 101,
   "id": "89eb259c",
   "metadata": {},
   "outputs": [
    {
     "name": "stdout",
     "output_type": "stream",
     "text": [
      "      ano              paises     var_pib_capita      var_pib_total  \\\n",
      "0    2020         Afghanistan  -4.57503186436271  -2.35110067344623   \n",
      "1    2020             Albania  -3.39870846788662  -3.95539792669307   \n",
      "2    2020             Algeria  -6.82696362319118  -5.09999999999982   \n",
      "3    2020      American Samoa   4.13808366254634   3.92156862745099   \n",
      "4    2020             Andorra  -12.0882996669955  -11.9526932539653   \n",
      "..    ...                 ...                ...                ...   \n",
      "209  2020             Vanuatu  -9.01902421865748  -6.81399113238088   \n",
      "211  2020             Vietnam   1.97923084573928    2.9058355842084   \n",
      "213  2020  West Bank and Gaza  -13.6319590509676  -11.4574515130457   \n",
      "215  2020              Zambia  -5.55028325872323  -2.78505506545167   \n",
      "216  2020            Zimbabwe  -7.62038819104805  -6.24874822378281   \n",
      "\n",
      "     var_pib_capita_ajust  var_pib_total_ajust  \n",
      "0               -4.575032            -2.351101  \n",
      "1               -3.398708            -3.955398  \n",
      "2               -6.826964            -5.100000  \n",
      "3                4.138084             3.921569  \n",
      "4              -12.088300           -11.952693  \n",
      "..                    ...                  ...  \n",
      "209             -9.019024            -6.813991  \n",
      "211              1.979231             2.905836  \n",
      "213            -13.631959           -11.457452  \n",
      "215             -5.550283            -2.785055  \n",
      "216             -7.620388            -6.248748  \n",
      "\n",
      "[196 rows x 6 columns]\n"
     ]
    }
   ],
   "source": [
    "# Excluindo linhas com dados faltantes\n",
    "pib_paises = pib_paises.dropna()\n",
    "print(pib_paises)"
   ]
  },
  {
   "cell_type": "markdown",
   "id": "9762c066",
   "metadata": {},
   "source": [
    "### Criando gráficos"
   ]
  },
  {
   "cell_type": "code",
   "execution_count": 131,
   "id": "b076c62e",
   "metadata": {},
   "outputs": [
    {
     "data": {
      "image/png": "[encoded data removed]",
      "text/plain": [
       "<Figure size 640x480 with 1 Axes>"
      ]
     },
     "metadata": {},
     "output_type": "display_data"
    }
   ],
   "source": [
    "import matplotlib.pyplot as plt\n",
    "import seaborn as sns\n",
    "import xlrd\n",
    "\n",
    "# Caso esteja iniciando o Spyder novamente, é necessário carregar o pandas\n",
    "\n",
    "import pandas as pd \n",
    "\n",
    "#%% Gráfico de Barras\n",
    "\n",
    "# Vamos começar analisando uma variável qualitativa, o perfil do investidor\n",
    "\n",
    "perfil_investidor = pd.read_excel(\"(2) perfil_investidor.xlsx\")\n",
    "\n",
    "# Como é uma variável categórica, vamos criar um gráfico de contagem (countplot)\n",
    "# Neste caso, o gráfico apresentará a contagem em cada categoria da variável\n",
    "sns.countplot(x=\"perfil\", data=perfil_investidor)\n",
    "\n",
    "# Poderíamos mudar a ordem de apresentação reorganizando os níveis da variável\n",
    "\n",
    "sns.countplot(x=\"perfil\", data=perfil_investidor, order=[\"Agressivo\",\"Moderado\",\"Conservador\"], color=\"red\")\n",
    "\n",
    "plt.title(\"Perfil dos Investidores\")\n",
    "plt.suptitle(\"Banco X\")\n",
    "plt.xlabel('Perfil do Investidor',fontsize=12)\n",
    "plt.ylabel('Quantidade',fontsize=12)\n",
    "plt.show()"
   ]
  },
  {
   "cell_type": "code",
   "execution_count": 133,
   "id": "e8556e33",
   "metadata": {},
   "outputs": [
    {
     "data": {
      "image/png": "[encoded data removed]",
      "text/plain": [
       "<Figure size 2000x1000 with 1 Axes>"
      ]
     },
     "metadata": {},
     "output_type": "display_data"
    }
   ],
   "source": [
    "plt.figure(figsize=(20,10))\n",
    "\n",
    "ax = sns.countplot(x=\"perfil\", data=perfil_investidor, order=[\"Agressivo\",\"Moderado\",\"Conservador\"], color=\"blue\")\n",
    "ax.bar_label(ax.containers[0])\n",
    "\n",
    "plt.title(\"Perfil dos Investidores\", fontsize=16)\n",
    "plt.suptitle(\"Banco X\")\n",
    "plt.xlabel('Perfil do Investidor',fontsize=16)\n",
    "plt.ylabel('Quantidade',fontsize=16)\n",
    "plt.show()"
   ]
  },
  {
   "cell_type": "code",
   "execution_count": 104,
   "id": "043f73d5",
   "metadata": {},
   "outputs": [
    {
     "data": {
      "image/png": "[encoded data removed]",
      "text/plain": [
       "<Figure size 1000x100 with 1 Axes>"
      ]
     },
     "metadata": {},
     "output_type": "display_data"
    },
    {
     "data": {
      "image/png": "[encoded data removed]",
      "text/plain": [
       "<Figure size 600x100 with 1 Axes>"
      ]
     },
     "metadata": {},
     "output_type": "display_data"
    }
   ],
   "source": [
    "# Conhecendo as paletas de cores do seaborn\n",
    "# Conhecendo a paleta bright\n",
    "palette = sns.color_palette(\"bright\")\n",
    "\n",
    "sns.palplot(palette)\n",
    "# Conhecendo a paleta viridis\n",
    "\n",
    "palette = sns.color_palette(\"viridis\")\n",
    "sns.palplot(palette)\n",
    "\n",
    "# Vamos alterar o fundo do gráfico (theme)\n",
    "sns.set_theme(style=\"whitegrid\", palette=\"viridis\")\n",
    "\n",
    "ax = sns.countplot(x=\"perfil\", data=perfil_investidor, order=[\"Agressivo\",\"Moderado\",\"Conservador\"])\n",
    "ax.bar_label(ax.containers[0])\n",
    "\n",
    "plt.title(\"Perfil dos Investidores\")\n",
    "plt.suptitle(\"Banco X\")\n",
    "plt.xlabel('Perfil do Investidor',fontsize=12)\n",
    "plt.ylabel('Quantidade',fontsize=12)\n",
    "plt.show()"
   ]
  },
  {
   "cell_type": "code",
   "execution_count": 135,
   "id": "94d9de15",
   "metadata": {},
   "outputs": [
    {
     "name": "stdout",
     "output_type": "stream",
     "text": [
      "matplotlib: 3.10.1\n"
     ]
    },
    {
     "data": {
      "image/png": "[encoded data removed]",
      "text/plain": [
       "<Figure size 640x480 with 1 Axes>"
      ]
     },
     "metadata": {},
     "output_type": "display_data"
    }
   ],
   "source": [
    "import matplotlib\n",
    "print('matplotlib: {}'.format(matplotlib.__version__))\n",
    "\n",
    "# Também poderíamos apresentar o gráfico com os eixos invertidos\n",
    "ax = sns.countplot(y=\"perfil\", data=perfil_investidor, order=[\"Agressivo\",\"Moderado\",\"Conservador\"], color=\"blue\")\n",
    "\n",
    "# Vamos adicionar um texto contendo os valores que foram contados\n",
    "ax.bar_label(ax.containers[0])\n",
    "\n",
    "plt.title(\"Perfil dos Investidores\")\n",
    "plt.suptitle(\"Banco X\")\n",
    "plt.xlabel('Perfil do Investidor',fontsize=12)\n",
    "plt.ylabel('Quantidade',fontsize=12)\n",
    "plt.show()"
   ]
  },
  {
   "cell_type": "code",
   "execution_count": 145,
   "id": "e45dca66",
   "metadata": {},
   "outputs": [
    {
     "data": {
      "image/png": "[encoded data removed]",
      "text/plain": [
       "<Figure size 1600x800 with 1 Axes>"
      ]
     },
     "metadata": {},
     "output_type": "display_data"
    }
   ],
   "source": [
    "# A seguir, podemos apresentar um gráfico de barras ordenado\n",
    "# Pode ser necessário importar o dataset \"desempenho_aluno_escola\"\n",
    "# Se não estiver nos objetos já importados\n",
    "\n",
    "\n",
    "alunos = pd.read_csv(\"(2) desempenho_aluno_escola.csv\")\n",
    "\n",
    "agrupamento_desempenho = desempenho_aluno_escola[['escola','desempenho','priv']].groupby(by=['escola','priv']).mean()\n",
    "agrupamento_desempenho_ordenado = agrupamento_desempenho.sort_values(by=['desempenho'], ascending=False).reset_index()\n",
    "\n",
    "plt.figure(figsize=(16,8))\n",
    "\n",
    "ax = sns.barplot(x=\"escola\", y=\"desempenho\", data=round(agrupamento_desempenho_ordenado.head(10),1))\n",
    "ax.bar_label(ax.containers[0])\n",
    "\n",
    "plt.title(\"Ranking dos desempenho da escola\")\n",
    "plt.xlabel('Escola',fontsize=12)\n",
    "plt.ylabel('Desempenho',fontsize=12)\n",
    "plt.show()"
   ]
  },
  {
   "cell_type": "code",
   "execution_count": null,
   "id": "3a09a3d5",
   "metadata": {},
   "outputs": [
    {
     "data": {
      "image/png": "[encoded data removed]",
      "text/plain": [
       "<Figure size 640x480 with 1 Axes>"
      ]
     },
     "metadata": {},
     "output_type": "display_data"
    }
   ],
   "source": [
    "#%% Histograma\n",
    "\n",
    "# A seguir, vamos elaborar o histograma de notas dos alunos (desempenho escolar)\n",
    "# O banco de dados é o mesmo que já utilizamos anteriormente\n",
    "\n",
    "# Iniciando com o gráfico básico utilizando o próprio pandas dataframe com o método \"hist\"\n",
    "\n",
    "desempenho_aluno_escola['desempenho'].hist(bins=30)\n",
    "\n",
    "# Podemos também utilizar a biblioteca do seaborn para fazer o histograma\n",
    "\n",
    "sns.histplot(data=desempenho_aluno_escola, x=\"desempenho\")\n",
    "\n",
    "# Vamos adicionar algumas formatações\n",
    "sns.histplot(data=desempenho_aluno_escola, x=\"desempenho\")\n",
    "plt.xlabel('Desempenho escolar',fontsize=12)\n",
    "plt.ylabel('Frequência',fontsize=12)\n",
    "plt.show()"
   ]
  },
  {
   "cell_type": "code",
   "execution_count": null,
   "id": "581b9da4",
   "metadata": {},
   "outputs": [
    {
     "data": {
      "image/png": "[encoded data removed]",
      "text/plain": [
       "<Figure size 640x480 with 1 Axes>"
      ]
     },
     "metadata": {},
     "output_type": "display_data"
    }
   ],
   "source": [
    "# Algumas vezes pode ser importante formatar a quantidade de barras apresentadas\n",
    "sns.histplot(data=desempenho_aluno_escola, x=\"desempenho\", bins=50)\n",
    "plt.xlabel('Desempenho escolar',fontsize=12)\n",
    "plt.ylabel('Frequência',fontsize=12)\n",
    "plt.show()"
   ]
  },
  {
   "cell_type": "code",
   "execution_count": 109,
   "id": "1e484a09",
   "metadata": {},
   "outputs": [
    {
     "data": {
      "image/png": "[encoded data removed]",
      "text/plain": [
       "<Figure size 640x480 with 1 Axes>"
      ]
     },
     "metadata": {},
     "output_type": "display_data"
    }
   ],
   "source": [
    "#%% Gráfico de Pontos\n",
    "\n",
    "# Na sequência, vamos elaborar um gráfico de dispersão dos pontos\n",
    "# Os dados são do atlas ambiental sobre distritos da cidade de São Paulo\n",
    "\n",
    "atlas_ambiental = pd.read_excel(\"(2) atlas_ambiental.xlsx\")\n",
    "\n",
    "# Iniciando com o gráfico básico (scatterplot)\n",
    "# Neste caso, devemos especificar as variáveis dos eixos x e y no\n",
    "\n",
    "sns.scatterplot(data=atlas_ambiental, x=\"renda\", y=\"escolaridade\")\n",
    "\n",
    "# Como há variáveis nos dois eixos, podemos adicionar outras variáveis:\n",
    "\n",
    "# Na forma de tamanho dos pontos (\"size\")\n",
    "\n",
    "sns.scatterplot(data=atlas_ambiental, x=\"renda\", y=\"escolaridade\", size=\"idade\")\n",
    "plt.title(\"Indicadores dos Distritos do Município de São Paulo\")\n",
    "plt.xlabel('Renda',fontsize=12)\n",
    "plt.ylabel('Escolaridade',fontsize=12)\n",
    "plt.show()"
   ]
  },
  {
   "cell_type": "code",
   "execution_count": null,
   "id": "065b4a31",
   "metadata": {},
   "outputs": [
    {
     "data": {
      "image/png": "[encoded data removed]",
      "text/plain": [
       "<Figure size 640x480 with 1 Axes>"
      ]
     },
     "metadata": {},
     "output_type": "display_data"
    }
   ],
   "source": [
    "# Para separar no gráfico alguma condição, é necessário fazer uma distinção dos dados no dataframe\n",
    "atlas_ambiental.loc[atlas_ambiental['favel']<6, \"color\"] = \"Abaixo\"\n",
    "atlas_ambiental.loc[atlas_ambiental['favel']>=6, \"color\"] = \"Acima\"\n",
    "\n",
    "# Na cor por categoria dos pontos (\"hue\")\n",
    "sns.scatterplot(data=atlas_ambiental, x=\"renda\", y=\"escolaridade\", size=\"idade\", hue=\"color\")\n",
    "plt.title(\"Indicadores dos Distritos do Município de São Paulo\")\n",
    "plt.xlabel('Renda',fontsize=12)\n",
    "plt.ylabel('Escolaridade',fontsize=12)\n",
    "plt.show()"
   ]
  },
  {
   "cell_type": "code",
   "execution_count": 111,
   "id": "0eaca800",
   "metadata": {},
   "outputs": [
    {
     "data": {
      "image/png": "[encoded data removed]",
      "text/plain": [
       "<Figure size 640x480 with 1 Axes>"
      ]
     },
     "metadata": {},
     "output_type": "display_data"
    }
   ],
   "source": [
    "# Para separar no gráfico alguma condição, é necessário fazer uma distinção dos dados no dataframe\n",
    "\n",
    "atlas_ambiental.loc[atlas_ambiental['mortalidade'] < 18, \"style\"] = \"Abaixo\"\n",
    "atlas_ambiental.loc[atlas_ambiental['mortalidade'] >= 18, \"style\"] = \"Acima\"\n",
    "\n",
    "# Na forma por categoria dos pontos (\"style\")\n",
    "\n",
    "sns.scatterplot(data=atlas_ambiental, x=\"renda\", y=\"escolaridade\", size=\"idade\", hue=\"color\", style=\"style\")\n",
    "plt.title(\"Indicadores dos Distritos do Município de São Paulo\")\n",
    "plt.xlabel('Renda',fontsize=12)\n",
    "plt.ylabel('Escolaridade',fontsize=12)\n",
    "plt.show()"
   ]
  },
  {
   "cell_type": "code",
   "execution_count": 112,
   "id": "aa02be87",
   "metadata": {},
   "outputs": [
    {
     "data": {
      "image/png": "[encoded data removed]",
      "text/plain": [
       "<Figure size 640x480 with 1 Axes>"
      ]
     },
     "metadata": {},
     "output_type": "display_data"
    }
   ],
   "source": [
    "# Gráfico de linhas\n",
    "\n",
    "# Vamos elaborar um gráfico de linhas (lineplot) para dados ao longo do tempo\n",
    "# Neste caso, vamos utilizar o banco de dados com preços de ações\n",
    "\n",
    "preco_acao = pd.read_excel(\"(2) precos_acao.xlsx\")\n",
    "\n",
    "# Como temos 4 ações no banco de dados, vamos implementar o seguinte gráfico\n",
    "# Note que vamos separar cada empresa por meio da cor do gráfico\n",
    "\n",
    "sns.lineplot(data=preco_acao, x=\"data\", y=\"preco\", hue=\"acao\")\n",
    "\n",
    "# Vamos formatar um pouco mais o gráfico\n",
    "\n",
    "sns.lineplot(data=preco_acao, x=\"data\", y=\"preco\", hue=\"acao\", marker=\"o\")\n",
    "\n",
    "plt.title(\"Série Histórica das Ações\")\n",
    "plt.xlabel('Mês de Referência',fontsize=12)\n",
    "plt.ylabel('Cotação de Fechamento',fontsize=12)\n",
    "plt.legend(title='Empresa')\n",
    "plt.show()"
   ]
  },
  {
   "cell_type": "code",
   "execution_count": 113,
   "id": "49db4aaf",
   "metadata": {},
   "outputs": [
    {
     "name": "stderr",
     "output_type": "stream",
     "text": [
      "c:\\Users\\Gabriel\\AppData\\Local\\Programs\\Python\\Python313\\Lib\\site-packages\\plotly\\express\\_core.py:1992: FutureWarning:\n",
      "\n",
      "When grouping with a length-1 list-like, you will need to pass a length-1 tuple to get_group in a future version of pandas. Pass `(name,)` instead of `name` to silence this warning.\n",
      "\n"
     ]
    }
   ],
   "source": [
    "# A seguir, um gráfico interativo\n",
    "# Vamos instalar o pacote plotly\n",
    "# Digitar diretamente no console: pip install plotly\n",
    "\n",
    "import plotly.express as px\n",
    "\n",
    "import plotly.io as pio\n",
    "\n",
    "pio.renderers.default = 'browser'\n",
    "\n",
    "fig = px.line(preco_acao, \n",
    "              x='data', \n",
    "              y='preco', \n",
    "              color='acao', \n",
    "              markers=True, \n",
    "              title=\"Série Histórica das Ações\",\n",
    "              labels={\n",
    "                     \"data\": \"Mês de referência\",\n",
    "                     \"preco\": \"Cotação de fechamento\",\n",
    "                     \"acao\": \"Empresa\"\n",
    "                 })\n",
    "fig.show()"
   ]
  },
  {
   "cell_type": "code",
   "execution_count": 114,
   "id": "504e43d6",
   "metadata": {},
   "outputs": [
    {
     "data": {
      "image/png": "[encoded data removed]",
      "text/plain": [
       "<Figure size 640x480 with 3 Axes>"
      ]
     },
     "metadata": {},
     "output_type": "display_data"
    }
   ],
   "source": [
    "#%% Gráfico de Calor\n",
    "\n",
    "# Vamos gerar um gráfico de calor que distingue informações por meio de cores\n",
    "# O banco de dados contém informações sobre o tempo para chegar à escola\n",
    "# Fonte: Fávero & Belfiore (2017, Capítulo 12)\n",
    "\n",
    "tempo_dist = pd.read_excel(\"(2) tempo_dist.xlsx\")\n",
    "\n",
    "# Inicialmente, vamos selecionar as variáveis quantitativas do banco de dados\n",
    "\n",
    "tempo_dist = tempo_dist[['tempo','distancia','semaforos']]\n",
    "\n",
    "# Vamos trabalhar o gráfico de calor no contexto das correlações entre variáveis\n",
    "# Portanto, primeiramente, vamos criar a matriz de correlações (função \"cor\")\n",
    "# Lembrando: selecionar apenas as variáveis quantitativas da base de dados\n",
    "\n",
    "corr = tempo_dist.corr()\n",
    "\n",
    "# Agora vamos elaborar um gráfico de calor (heatmap) com algumas formatações\n",
    "\n",
    "sns.heatmap(corr, center=0)\n",
    "\n",
    "#%%\n",
    "\n",
    "# Poderíamos trocar as cores para facilitar a visualização\n",
    "# Ao mesmo tempo, vamos adicionar rótulos aos dados\n",
    "\n",
    "sns.heatmap(corr, center=0, annot=True, cmap=\"Greens\")\n",
    "\n",
    "# Algumas opções de cores:\n",
    "    # cmap=\"YlGnBu\"\n",
    "    # cmap=\"Blues\"\n",
    "    # cmap=\"BuPu\"\n",
    "    # cmap=\"PiYG\"\n",
    "    # cmap=\"Greens\"\n",
    "\n",
    "#%%\n",
    "\n",
    "# Vamos torná-lo mais informativo com o plotly\n",
    "\n",
    "import plotly.graph_objects as go\n",
    "\n",
    "fig = go.Figure()\n",
    "\n",
    "fig.add_trace(\n",
    "    go.Heatmap(\n",
    "        x = corr.columns,\n",
    "        y = corr.index,\n",
    "        z = np.array(corr),\n",
    "        text=corr.values,\n",
    "        texttemplate='%{text:.2f}'\n",
    "    )\n",
    ")\n",
    "\n",
    "fig.show()"
   ]
  },
  {
   "cell_type": "code",
   "execution_count": 115,
   "id": "3c740ae0",
   "metadata": {},
   "outputs": [
    {
     "data": {
      "image/png": "[encoded data removed]",
      "text/plain": [
       "<Figure size 640x480 with 1 Axes>"
      ]
     },
     "metadata": {},
     "output_type": "display_data"
    }
   ],
   "source": [
    "#%% Gráficos Boxplot\n",
    "\n",
    "# O boxplot apresenta medidas de posição das variáveis\n",
    "# Mínimo, máximo, 1º quartil, mediana e 3º quartil\n",
    "# Vemos a distribuição dos dados nas variáveis e eventuais outliers univariados\n",
    "\n",
    "# Inicialmente, vamos apresentar o boxplot de uma única variável\n",
    "\n",
    "var_boxplot = atlas_ambiental[['cód_ibge','renda']]\n",
    "\n",
    "sns.boxplot(data=var_boxplot, y='renda')\n",
    "plt.xlabel('Renda',fontsize=12)\n",
    "plt.ylabel('Valores',fontsize=12)\n",
    "plt.show()\n",
    "\n",
    "# Vamos torná-lo mais informativo\n",
    "\n",
    "fig = px.box(var_boxplot, y=\"renda\")\n",
    "fig.show()"
   ]
  },
  {
   "cell_type": "code",
   "execution_count": 116,
   "id": "d7b09406",
   "metadata": {},
   "outputs": [
    {
     "name": "stdout",
     "output_type": "stream",
     "text": [
      "6.572520305780926e-17\n",
      "1.0\n",
      "-2.779998453661392e-16\n",
      "0.9999999999999999\n",
      "-1.8474111129762604e-16\n",
      "1.0\n"
     ]
    },
    {
     "data": {
      "image/png": "[encoded data removed]",
      "text/plain": [
       "<Figure size 640x480 with 1 Axes>"
      ]
     },
     "metadata": {},
     "output_type": "display_data"
    }
   ],
   "source": [
    "# Poderíamos fazer vários boxplot em um mesmo gráfico\n",
    "# Vamos retomar o exemplo do desempenho dos alunos. Importando novamente:\n",
    "\n",
    "desempenho_aluno_escola = pd.read_csv(\"(2) desempenho_aluno_escola.csv\", delimiter=\",\")\n",
    "\n",
    "# Faremos o boxplot das variáveis \"desempenho\", \"horas\" e \"tempo de experiência\"\n",
    "\n",
    "# Primeiramente, o Z-Score de cada variável é obtido por meio da função \"scale\"\n",
    "# Na sequência, juntaremos as variáveis padronizadas com o id original\n",
    "\n",
    "from sklearn.preprocessing import StandardScaler\n",
    "\n",
    "scaler = StandardScaler()\n",
    "\n",
    "desempenho_aluno_escola[['desempenho_z','horas_z','texp_z']] = scaler.fit_transform(desempenho_aluno_escola[['desempenho','horas','texp']])\n",
    "\n",
    "# Vamos verificar o resultado do Z-Score na média e desvio padrão das variáveis\n",
    "\n",
    "print(np.mean(desempenho_aluno_escola['desempenho_z']))\n",
    "print(np.std(desempenho_aluno_escola['desempenho_z']))\n",
    "\n",
    "print(np.mean(desempenho_aluno_escola['horas_z']))\n",
    "print(np.std(desempenho_aluno_escola['horas_z']))\n",
    "\n",
    "print(np.mean(desempenho_aluno_escola['texp_z']))\n",
    "print(np.std(desempenho_aluno_escola['texp_z']))\n",
    "\n",
    "# Agora vamos reorganizar o banco de dados da seguinte forma\n",
    "# O procedimento colocará uma variável na sequência da outra\n",
    "\n",
    "desemp_reorg_z = pd.melt(desempenho_aluno_escola, id_vars=['estudante'], value_vars=['desempenho_z','horas_z','texp_z'])\n",
    "\n",
    "# Por fim, vamos gerar o boxplot\n",
    "\n",
    "sns.boxplot(data=desemp_reorg_z, y='value', x='variable')\n",
    "plt.xlabel('Renda',fontsize=12)\n",
    "plt.ylabel('Valores Z-Score',fontsize=12)\n",
    "plt.show()\n",
    "\n",
    "# Vamos torná-lo mais informativo\n",
    "\n",
    "fig = px.box(desemp_reorg_z, y='value', x='variable')\n",
    "fig.show()"
   ]
  }
 ],
 "metadata": {
  "kernelspec": {
   "display_name": "Python 3",
   "language": "python",
   "name": "python3"
  },
  "language_info": {
   "codemirror_mode": {
    "name": "ipython",
    "version": 3
   },
   "file_extension": ".py",
   "mimetype": "text/x-python",
   "name": "python",
   "nbconvert_exporter": "python",
   "pygments_lexer": "ipython3",
   "version": "3.13.2"
  }
 },
 "nbformat": 4,
 "nbformat_minor": 5
}
